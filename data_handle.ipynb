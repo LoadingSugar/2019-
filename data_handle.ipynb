{
 "cells": [
  {
   "cell_type": "code",
   "execution_count": 1,
   "metadata": {},
   "outputs": [],
   "source": [
    "import os\n",
    "import pandas as pd\n",
    "import numpy as np\n",
    "from datetime import datetime,timedelta\n",
    "import time\n",
    "#原始目录\n",
    "path = \"../../data/AD/\"\n",
    "#结果目录\n",
    "path2 = \"../../data/AD/da/\"\n",
    "li = os.listdir(path)"
   ]
  },
  {
   "cell_type": "markdown",
   "metadata": {},
   "source": [
    "exp_all_label_minisday   静态操作里面的ad_id 曝光值，非当天，16号label就是17号的（预测值）\n",
    "exp_all_label_nowday     静态操作里面的ad_id 曝光值，当天，16号label就是16号实际的\n",
    "exp_his_label            B榜测试数据里面的ad_id 在曝光数据里统计出来的历史曝光数据（直接用于测试集基于规则的填充）\n",
    "op_sta_all_df            静态数据和操作数据的集合（并对所有天数进行了填充）\n",
    "train1_with0             训练数据包含label为0数据，0占70%多\n",
    "train1_with0_delete      训练数据（删除部分不适用于训练的数据，16号训练数据，但17号对广告修改了的不算）包含label为0数据，0占70%多\n",
    "train1_without0          训练数据包含label没有0数据\n",
    "train1_without0_delete   训练数据包含label没有0数据（删除部分不适用于训练的数据，16号训练数据，但17号对广告修改了的不算）包含label为0数据，0占70%多"
   ]
  },
  {
   "cell_type": "markdown",
   "metadata": {},
   "source": [
    "## 1.读取曝光数据并去重"
   ]
  },
  {
   "cell_type": "code",
   "execution_count": 2,
   "metadata": {},
   "outputs": [],
   "source": [
    "names = ['request_id','request_time','location_id','user_id','ad_id','ad_size','ad_bid','ad_pctr','ad_quality_ecpm','ad_totalEcpm']\n",
    "totalExposureLog_file = path +'totalExposureLog.out'\n",
    "exp_df = pd.read_csv(totalExposureLog_file,delimiter = '\\t',parse_dates = ['request_time'],header=None,names = names)"
   ]
  },
  {
   "cell_type": "code",
   "execution_count": 3,
   "metadata": {},
   "outputs": [
    {
     "data": {
      "text/plain": [
       "(102386695, 10)"
      ]
     },
     "execution_count": 3,
     "metadata": {},
     "output_type": "execute_result"
    }
   ],
   "source": [
    "exp_df.shape"
   ]
  },
  {
   "cell_type": "code",
   "execution_count": 4,
   "metadata": {},
   "outputs": [
    {
     "data": {
      "text/plain": [
       "(101507776, 10)"
      ]
     },
     "execution_count": 4,
     "metadata": {},
     "output_type": "execute_result"
    }
   ],
   "source": [
    "exp_df.drop_duplicates(keep='first', inplace=True)\n",
    "exp_df.shape"
   ]
  },
  {
   "cell_type": "code",
   "execution_count": 6,
   "metadata": {},
   "outputs": [],
   "source": [
    "exp_df['request_time']=exp_df['request_time'].apply(lambda x:time.strftime(\"%Y%m%d\",time.localtime(int(x))))"
   ]
  },
  {
   "cell_type": "code",
   "execution_count": 8,
   "metadata": {},
   "outputs": [],
   "source": [
    "#\tid\tad_id\tcreate_time\tgoods_type\tad_account_id\tad_size\tad_bid\tgoods_id\tad_industry_id\n",
    "test_df=pd.read_csv(path+'ad_test_data.csv')\n",
    "sampleadlist=test_df.ad_id.unique()"
   ]
  },
  {
   "cell_type": "markdown",
   "metadata": {},
   "source": [
    "## 2.读取B榜测试数据"
   ]
  },
  {
   "cell_type": "code",
   "execution_count": 339,
   "metadata": {},
   "outputs": [],
   "source": [
    "testB_df_path = path +'Btest_sample_new.dat'\n",
    "test_name=['id','ad_id','create_time','ad_size','ad_trade_id','good_class','good_id','ad_acc_id','deliver_time','people','ad_bid']\n",
    "testB_df = pd.read_csv(testB_df_path,delimiter = '\\t',parse_dates = ['create_time'],header=None,names = test_name)"
   ]
  },
  {
   "cell_type": "code",
   "execution_count": 340,
   "metadata": {},
   "outputs": [
    {
     "data": {
      "text/html": [
       "<div>\n",
       "<style scoped>\n",
       "    .dataframe tbody tr th:only-of-type {\n",
       "        vertical-align: middle;\n",
       "    }\n",
       "\n",
       "    .dataframe tbody tr th {\n",
       "        vertical-align: top;\n",
       "    }\n",
       "\n",
       "    .dataframe thead th {\n",
       "        text-align: right;\n",
       "    }\n",
       "</style>\n",
       "<table border=\"1\" class=\"dataframe\">\n",
       "  <thead>\n",
       "    <tr style=\"text-align: right;\">\n",
       "      <th></th>\n",
       "      <th>id</th>\n",
       "      <th>ad_id</th>\n",
       "      <th>create_time</th>\n",
       "      <th>ad_size</th>\n",
       "      <th>ad_trade_id</th>\n",
       "      <th>good_class</th>\n",
       "      <th>good_id</th>\n",
       "      <th>ad_acc_id</th>\n",
       "      <th>deliver_time</th>\n",
       "      <th>people</th>\n",
       "      <th>ad_bid</th>\n",
       "    </tr>\n",
       "  </thead>\n",
       "  <tbody>\n",
       "    <tr>\n",
       "      <th>0</th>\n",
       "      <td>1</td>\n",
       "      <td>152978</td>\n",
       "      <td>1480387159</td>\n",
       "      <td>30</td>\n",
       "      <td>118</td>\n",
       "      <td>3</td>\n",
       "      <td>-1</td>\n",
       "      <td>23511</td>\n",
       "      <td>281474976710655,281474976710655,28147497671065...</td>\n",
       "      <td>age:182,202,739,340,536,287,690,988,187,367,47...</td>\n",
       "      <td>37</td>\n",
       "    </tr>\n",
       "    <tr>\n",
       "      <th>1</th>\n",
       "      <td>2</td>\n",
       "      <td>507977</td>\n",
       "      <td>1551793928</td>\n",
       "      <td>30</td>\n",
       "      <td>122</td>\n",
       "      <td>13</td>\n",
       "      <td>629</td>\n",
       "      <td>4211</td>\n",
       "      <td>70368744161280,70368744161280,70368744161280,7...</td>\n",
       "      <td>all</td>\n",
       "      <td>54</td>\n",
       "    </tr>\n",
       "    <tr>\n",
       "      <th>2</th>\n",
       "      <td>3</td>\n",
       "      <td>639943</td>\n",
       "      <td>1529565757</td>\n",
       "      <td>34</td>\n",
       "      <td>84</td>\n",
       "      <td>13</td>\n",
       "      <td>2525</td>\n",
       "      <td>15582</td>\n",
       "      <td>281474976694272,281474976694272,28147497669427...</td>\n",
       "      <td>age:433,202,739,340,988,479,942,731,844,837,33...</td>\n",
       "      <td>161</td>\n",
       "    </tr>\n",
       "    <tr>\n",
       "      <th>3</th>\n",
       "      <td>4</td>\n",
       "      <td>605859</td>\n",
       "      <td>1553161934</td>\n",
       "      <td>40</td>\n",
       "      <td>98</td>\n",
       "      <td>13</td>\n",
       "      <td>3808</td>\n",
       "      <td>10907</td>\n",
       "      <td>1099243192320,1099243192320,1099243192320,1099...</td>\n",
       "      <td>all</td>\n",
       "      <td>28</td>\n",
       "    </tr>\n",
       "    <tr>\n",
       "      <th>4</th>\n",
       "      <td>5</td>\n",
       "      <td>742582</td>\n",
       "      <td>1551329520</td>\n",
       "      <td>40</td>\n",
       "      <td>122</td>\n",
       "      <td>13</td>\n",
       "      <td>7017</td>\n",
       "      <td>15855</td>\n",
       "      <td>274936627200,274936627200,274936627200,2749366...</td>\n",
       "      <td>age:433,819,79,522,601,753,347,829,741</td>\n",
       "      <td>12</td>\n",
       "    </tr>\n",
       "  </tbody>\n",
       "</table>\n",
       "</div>"
      ],
      "text/plain": [
       "   id   ad_id create_time  ad_size  ad_trade_id  good_class  good_id  \\\n",
       "0   1  152978  1480387159       30          118           3       -1   \n",
       "1   2  507977  1551793928       30          122          13      629   \n",
       "2   3  639943  1529565757       34           84          13     2525   \n",
       "3   4  605859  1553161934       40           98          13     3808   \n",
       "4   5  742582  1551329520       40          122          13     7017   \n",
       "\n",
       "   ad_acc_id                                       deliver_time  \\\n",
       "0      23511  281474976710655,281474976710655,28147497671065...   \n",
       "1       4211  70368744161280,70368744161280,70368744161280,7...   \n",
       "2      15582  281474976694272,281474976694272,28147497669427...   \n",
       "3      10907  1099243192320,1099243192320,1099243192320,1099...   \n",
       "4      15855  274936627200,274936627200,274936627200,2749366...   \n",
       "\n",
       "                                              people  ad_bid  \n",
       "0  age:182,202,739,340,536,287,690,988,187,367,47...      37  \n",
       "1                                                all      54  \n",
       "2  age:433,202,739,340,988,479,942,731,844,837,33...     161  \n",
       "3                                                all      28  \n",
       "4             age:433,819,79,522,601,753,347,829,741      12  "
      ]
     },
     "execution_count": 340,
     "metadata": {},
     "output_type": "execute_result"
    }
   ],
   "source": [
    "testB_df.head()"
   ]
  },
  {
   "cell_type": "markdown",
   "metadata": {},
   "source": [
    "## 3.统计B榜测试数据ad_id在曝光文件中出现的记录，统计ad_id每天出现的label(用于直接用规则填充测试集)"
   ]
  },
  {
   "cell_type": "code",
   "execution_count": 343,
   "metadata": {},
   "outputs": [
    {
     "data": {
      "text/plain": [
       "(826091, 10)"
      ]
     },
     "execution_count": 343,
     "metadata": {},
     "output_type": "execute_result"
    }
   ],
   "source": [
    "sampleadlist=testB_df.ad_id.unique()\n",
    "exp_his_df=exp_df[exp_df['ad_id'].isin(sampleadlist)]\n",
    "exp_his_df.shape"
   ]
  },
  {
   "cell_type": "code",
   "execution_count": 344,
   "metadata": {},
   "outputs": [],
   "source": [
    "temp=exp_his_df.groupby(['ad_id','request_time','ad_bid'])['request_id'].count().reset_index()"
   ]
  },
  {
   "cell_type": "code",
   "execution_count": 345,
   "metadata": {},
   "outputs": [
    {
     "data": {
      "text/html": [
       "<div>\n",
       "<style scoped>\n",
       "    .dataframe tbody tr th:only-of-type {\n",
       "        vertical-align: middle;\n",
       "    }\n",
       "\n",
       "    .dataframe tbody tr th {\n",
       "        vertical-align: top;\n",
       "    }\n",
       "\n",
       "    .dataframe thead th {\n",
       "        text-align: right;\n",
       "    }\n",
       "</style>\n",
       "<table border=\"1\" class=\"dataframe\">\n",
       "  <thead>\n",
       "    <tr style=\"text-align: right;\">\n",
       "      <th></th>\n",
       "      <th>ad_id</th>\n",
       "      <th>request_time</th>\n",
       "      <th>label</th>\n",
       "    </tr>\n",
       "  </thead>\n",
       "  <tbody>\n",
       "    <tr>\n",
       "      <th>0</th>\n",
       "      <td>415</td>\n",
       "      <td>20190217</td>\n",
       "      <td>6</td>\n",
       "    </tr>\n",
       "    <tr>\n",
       "      <th>1</th>\n",
       "      <td>415</td>\n",
       "      <td>20190218</td>\n",
       "      <td>1</td>\n",
       "    </tr>\n",
       "    <tr>\n",
       "      <th>2</th>\n",
       "      <td>415</td>\n",
       "      <td>20190219</td>\n",
       "      <td>2</td>\n",
       "    </tr>\n",
       "    <tr>\n",
       "      <th>3</th>\n",
       "      <td>415</td>\n",
       "      <td>20190220</td>\n",
       "      <td>2</td>\n",
       "    </tr>\n",
       "    <tr>\n",
       "      <th>4</th>\n",
       "      <td>415</td>\n",
       "      <td>20190221</td>\n",
       "      <td>2</td>\n",
       "    </tr>\n",
       "  </tbody>\n",
       "</table>\n",
       "</div>"
      ],
      "text/plain": [
       "   ad_id request_time  label\n",
       "0    415     20190217      6\n",
       "1    415     20190218      1\n",
       "2    415     20190219      2\n",
       "3    415     20190220      2\n",
       "4    415     20190221      2"
      ]
     },
     "execution_count": 345,
     "metadata": {},
     "output_type": "execute_result"
    }
   ],
   "source": [
    "exp_his_label=pd.DataFrame(temp.groupby(['ad_id','request_time'])['request_id'].sum().reset_index(),columns=['ad_id','request_time','request_id'])\n",
    "exp_his_label.rename(columns=dict(zip(['ad_id','request_time','request_id'], ['ad_id','request_time','label'])), inplace=True)\n",
    "exp_his_label.head()"
   ]
  },
  {
   "cell_type": "code",
   "execution_count": 346,
   "metadata": {},
   "outputs": [],
   "source": [
    "exp_his_label.to_csv(path2+'exp_his_label.csv')"
   ]
  },
  {
   "cell_type": "markdown",
   "metadata": {},
   "source": [
    "## 4.读取静态数据  去重，根据官方删除行业id，商品id，广告size问题数据"
   ]
  },
  {
   "cell_type": "code",
   "execution_count": 18,
   "metadata": {},
   "outputs": [],
   "source": [
    "static_feature_names = ['ad_id','create_time','ad_acc_id','good_id','good_class','ad_trade_id','ad_size']\n",
    "sta_df = pd.read_csv(path+'ad_static_feature.out',delimiter = '\\t',parse_dates = ['create_time'],header=None,names = static_feature_names,dtype={'ad_id':int,\"ad_acc_id\": int,\\\n",
    "                              \"good_id\": str, \"good_class\": str, \"ad_trade_id\": str,'ad_size':str}) "
   ]
  },
  {
   "cell_type": "code",
   "execution_count": 19,
   "metadata": {},
   "outputs": [
    {
     "data": {
      "text/plain": [
       "(735911, 7)"
      ]
     },
     "execution_count": 19,
     "metadata": {},
     "output_type": "execute_result"
    }
   ],
   "source": [
    "sta_df.shape"
   ]
  },
  {
   "cell_type": "code",
   "execution_count": 20,
   "metadata": {},
   "outputs": [
    {
     "data": {
      "text/plain": [
       "(735911, 7)"
      ]
     },
     "execution_count": 20,
     "metadata": {},
     "output_type": "execute_result"
    }
   ],
   "source": [
    "sta_df.drop_duplicates(keep='first',inplace=True)\n",
    "sta_df.shape"
   ]
  },
  {
   "cell_type": "code",
   "execution_count": 22,
   "metadata": {},
   "outputs": [
    {
     "data": {
      "text/plain": [
       "(727720, 7)"
      ]
     },
     "execution_count": 22,
     "metadata": {},
     "output_type": "execute_result"
    }
   ],
   "source": [
    "sta_df=sta_df[~sta_df['ad_trade_id'].str.contains(',')]\n",
    "sta_df.shape"
   ]
  },
  {
   "cell_type": "code",
   "execution_count": 23,
   "metadata": {},
   "outputs": [
    {
     "data": {
      "text/plain": [
       "(727717, 7)"
      ]
     },
     "execution_count": 23,
     "metadata": {},
     "output_type": "execute_result"
    }
   ],
   "source": [
    "sta_df=sta_df[~sta_df['good_id'].str.contains(',')]\n",
    "sta_df.shape"
   ]
  },
  {
   "cell_type": "code",
   "execution_count": 25,
   "metadata": {},
   "outputs": [
    {
     "data": {
      "text/plain": [
       "(502153, 7)"
      ]
     },
     "execution_count": 25,
     "metadata": {},
     "output_type": "execute_result"
    }
   ],
   "source": [
    "sta_df=sta_df[~(sta_df['ad_size'].isnull())]\n",
    "sta_df.shape"
   ]
  },
  {
   "cell_type": "markdown",
   "metadata": {},
   "source": [
    "## 5.读取操作数据  去重，根据官方删除操作类型异常数据，删去2月30号数据\n",
    "###   广告修改的字段列转行，并分组填充；清理频繁修改记录，只保留一天的最后一条修改记录"
   ]
  },
  {
   "cell_type": "code",
   "execution_count": 64,
   "metadata": {},
   "outputs": [],
   "source": [
    "operation_names = ['ad_id','create_update_time','op_type','op_set','op_value']\n",
    "op_df = pd.read_csv(path+'ad_operation.dat',delimiter = '\\t',header=None,names = operation_names,dtype={\"ad_id\": int,'create_update_time':int,\"op_type\": int,\"op_set\": int, \"op_value\": object})"
   ]
  },
  {
   "cell_type": "code",
   "execution_count": 65,
   "metadata": {},
   "outputs": [
    {
     "data": {
      "text/plain": [
       "(760866, 5)"
      ]
     },
     "execution_count": 65,
     "metadata": {},
     "output_type": "execute_result"
    }
   ],
   "source": [
    "op_df.shape"
   ]
  },
  {
   "cell_type": "code",
   "execution_count": 66,
   "metadata": {},
   "outputs": [
    {
     "data": {
      "text/plain": [
       "(760703, 5)"
      ]
     },
     "execution_count": 66,
     "metadata": {},
     "output_type": "execute_result"
    }
   ],
   "source": [
    "op_df.drop_duplicates(keep='first', inplace=True)\n",
    "op_df.shape"
   ]
  },
  {
   "cell_type": "code",
   "execution_count": 67,
   "metadata": {},
   "outputs": [
    {
     "data": {
      "text/plain": [
       "(759181, 5)"
      ]
     },
     "execution_count": 67,
     "metadata": {},
     "output_type": "execute_result"
    }
   ],
   "source": [
    "op_df=op_df[(op_df.create_update_time != 0) | (op_df.op_type != 1)]\n",
    "op_df.shape"
   ]
  },
  {
   "cell_type": "code",
   "execution_count": 68,
   "metadata": {},
   "outputs": [
    {
     "data": {
      "text/plain": [
       "(757889, 5)"
      ]
     },
     "execution_count": 68,
     "metadata": {},
     "output_type": "execute_result"
    }
   ],
   "source": [
    "op_df=op_df[(op_df.create_update_time != 20190230000000)]\n",
    "op_df.shape"
   ]
  },
  {
   "cell_type": "code",
   "execution_count": 69,
   "metadata": {},
   "outputs": [
    {
     "data": {
      "text/html": [
       "<div>\n",
       "<style scoped>\n",
       "    .dataframe tbody tr th:only-of-type {\n",
       "        vertical-align: middle;\n",
       "    }\n",
       "\n",
       "    .dataframe tbody tr th {\n",
       "        vertical-align: top;\n",
       "    }\n",
       "\n",
       "    .dataframe thead th {\n",
       "        text-align: right;\n",
       "    }\n",
       "</style>\n",
       "<table border=\"1\" class=\"dataframe\">\n",
       "  <thead>\n",
       "    <tr style=\"text-align: right;\">\n",
       "      <th></th>\n",
       "      <th>ad_id</th>\n",
       "      <th>create_update_time</th>\n",
       "      <th>op_type</th>\n",
       "      <th>op_set</th>\n",
       "      <th>op_value</th>\n",
       "    </tr>\n",
       "  </thead>\n",
       "  <tbody>\n",
       "    <tr>\n",
       "      <th>0</th>\n",
       "      <td>593323</td>\n",
       "      <td>0</td>\n",
       "      <td>2</td>\n",
       "      <td>2</td>\n",
       "      <td>90</td>\n",
       "    </tr>\n",
       "    <tr>\n",
       "      <th>1</th>\n",
       "      <td>593323</td>\n",
       "      <td>0</td>\n",
       "      <td>2</td>\n",
       "      <td>3</td>\n",
       "      <td>all</td>\n",
       "    </tr>\n",
       "    <tr>\n",
       "      <th>2</th>\n",
       "      <td>593323</td>\n",
       "      <td>0</td>\n",
       "      <td>2</td>\n",
       "      <td>4</td>\n",
       "      <td>281474976710655,281474976710655,28147497671065...</td>\n",
       "    </tr>\n",
       "    <tr>\n",
       "      <th>3</th>\n",
       "      <td>593323</td>\n",
       "      <td>20190217000000</td>\n",
       "      <td>1</td>\n",
       "      <td>1</td>\n",
       "      <td>0</td>\n",
       "    </tr>\n",
       "    <tr>\n",
       "      <th>4</th>\n",
       "      <td>593323</td>\n",
       "      <td>20190218233855</td>\n",
       "      <td>1</td>\n",
       "      <td>2</td>\n",
       "      <td>90</td>\n",
       "    </tr>\n",
       "  </tbody>\n",
       "</table>\n",
       "</div>"
      ],
      "text/plain": [
       "    ad_id  create_update_time  op_type  op_set  \\\n",
       "0  593323                   0        2       2   \n",
       "1  593323                   0        2       3   \n",
       "2  593323                   0        2       4   \n",
       "3  593323      20190217000000        1       1   \n",
       "4  593323      20190218233855        1       2   \n",
       "\n",
       "                                            op_value  \n",
       "0                                                 90  \n",
       "1                                                all  \n",
       "2  281474976710655,281474976710655,28147497671065...  \n",
       "3                                                  0  \n",
       "4                                                 90  "
      ]
     },
     "execution_count": 69,
     "metadata": {},
     "output_type": "execute_result"
    }
   ],
   "source": [
    "op_df.head()"
   ]
  },
  {
   "cell_type": "code",
   "execution_count": 70,
   "metadata": {},
   "outputs": [
    {
     "data": {
      "text/plain": [
       "(757282, 5)"
      ]
     },
     "execution_count": 70,
     "metadata": {},
     "output_type": "execute_result"
    }
   ],
   "source": [
    "op_df.drop_duplicates(['ad_id','create_update_time','op_type','op_set'],keep='first',inplace=True)\n",
    "op_df.shape"
   ]
  },
  {
   "cell_type": "code",
   "execution_count": 71,
   "metadata": {},
   "outputs": [],
   "source": [
    "op_df['index11']=op_df.apply(lambda x: str(x['ad_id'])+'-'+str(x['create_update_time'])+'-'+str(x['op_type']),axis=1)"
   ]
  },
  {
   "cell_type": "code",
   "execution_count": 72,
   "metadata": {},
   "outputs": [],
   "source": [
    "temp=op_df.pivot(index='index11', columns='op_set', values='op_value')"
   ]
  },
  {
   "cell_type": "code",
   "execution_count": 73,
   "metadata": {},
   "outputs": [],
   "source": [
    "temp.rename(index=str, columns={1: \"status\", 2: \"ad_bid\",3:\"people\",4:\"deliver_time\"},inplace=True)"
   ]
  },
  {
   "cell_type": "code",
   "execution_count": 74,
   "metadata": {},
   "outputs": [
    {
     "data": {
      "text/html": [
       "<div>\n",
       "<style scoped>\n",
       "    .dataframe tbody tr th:only-of-type {\n",
       "        vertical-align: middle;\n",
       "    }\n",
       "\n",
       "    .dataframe tbody tr th {\n",
       "        vertical-align: top;\n",
       "    }\n",
       "\n",
       "    .dataframe thead th {\n",
       "        text-align: right;\n",
       "    }\n",
       "</style>\n",
       "<table border=\"1\" class=\"dataframe\">\n",
       "  <thead>\n",
       "    <tr style=\"text-align: right;\">\n",
       "      <th>op_set</th>\n",
       "      <th>status</th>\n",
       "      <th>ad_bid</th>\n",
       "      <th>people</th>\n",
       "      <th>deliver_time</th>\n",
       "    </tr>\n",
       "    <tr>\n",
       "      <th>index11</th>\n",
       "      <th></th>\n",
       "      <th></th>\n",
       "      <th></th>\n",
       "      <th></th>\n",
       "    </tr>\n",
       "  </thead>\n",
       "  <tbody>\n",
       "    <tr>\n",
       "      <th>100007-0-2</th>\n",
       "      <td>NaN</td>\n",
       "      <td>200</td>\n",
       "      <td>age:217,601,79,202,837,942,638,394,347,731,739...</td>\n",
       "      <td>281474976694272,281474976694272,28147497669427...</td>\n",
       "    </tr>\n",
       "    <tr>\n",
       "      <th>100007-20190310154223-1</th>\n",
       "      <td>0</td>\n",
       "      <td>NaN</td>\n",
       "      <td>NaN</td>\n",
       "      <td>NaN</td>\n",
       "    </tr>\n",
       "    <tr>\n",
       "      <th>100007-20190312201207-1</th>\n",
       "      <td>1</td>\n",
       "      <td>NaN</td>\n",
       "      <td>NaN</td>\n",
       "      <td>NaN</td>\n",
       "    </tr>\n",
       "    <tr>\n",
       "      <th>100007-20190312201210-1</th>\n",
       "      <td>NaN</td>\n",
       "      <td>131</td>\n",
       "      <td>NaN</td>\n",
       "      <td>NaN</td>\n",
       "    </tr>\n",
       "    <tr>\n",
       "      <th>100007-20190312221003-1</th>\n",
       "      <td>0</td>\n",
       "      <td>NaN</td>\n",
       "      <td>NaN</td>\n",
       "      <td>NaN</td>\n",
       "    </tr>\n",
       "  </tbody>\n",
       "</table>\n",
       "</div>"
      ],
      "text/plain": [
       "op_set                  status ad_bid  \\\n",
       "index11                                 \n",
       "100007-0-2                 NaN    200   \n",
       "100007-20190310154223-1      0    NaN   \n",
       "100007-20190312201207-1      1    NaN   \n",
       "100007-20190312201210-1    NaN    131   \n",
       "100007-20190312221003-1      0    NaN   \n",
       "\n",
       "op_set                                                              people  \\\n",
       "index11                                                                      \n",
       "100007-0-2               age:217,601,79,202,837,942,638,394,347,731,739...   \n",
       "100007-20190310154223-1                                                NaN   \n",
       "100007-20190312201207-1                                                NaN   \n",
       "100007-20190312201210-1                                                NaN   \n",
       "100007-20190312221003-1                                                NaN   \n",
       "\n",
       "op_set                                                        deliver_time  \n",
       "index11                                                                     \n",
       "100007-0-2               281474976694272,281474976694272,28147497669427...  \n",
       "100007-20190310154223-1                                                NaN  \n",
       "100007-20190312201207-1                                                NaN  \n",
       "100007-20190312201210-1                                                NaN  \n",
       "100007-20190312221003-1                                                NaN  "
      ]
     },
     "execution_count": 74,
     "metadata": {},
     "output_type": "execute_result"
    }
   ],
   "source": [
    "temp.head()"
   ]
  },
  {
   "cell_type": "code",
   "execution_count": 75,
   "metadata": {},
   "outputs": [
    {
     "data": {
      "text/plain": [
       "(680724, 6)"
      ]
     },
     "execution_count": 75,
     "metadata": {},
     "output_type": "execute_result"
    }
   ],
   "source": [
    "op_df.drop_duplicates(subset=['ad_id','create_update_time','op_type'],keep='last',inplace=True)\n",
    "op_df.shape"
   ]
  },
  {
   "cell_type": "code",
   "execution_count": 76,
   "metadata": {},
   "outputs": [],
   "source": [
    "op_df=pd.merge(op_df,temp,how='left',left_on='index11',right_on='index11')"
   ]
  },
  {
   "cell_type": "code",
   "execution_count": 77,
   "metadata": {},
   "outputs": [
    {
     "data": {
      "text/html": [
       "<div>\n",
       "<style scoped>\n",
       "    .dataframe tbody tr th:only-of-type {\n",
       "        vertical-align: middle;\n",
       "    }\n",
       "\n",
       "    .dataframe tbody tr th {\n",
       "        vertical-align: top;\n",
       "    }\n",
       "\n",
       "    .dataframe thead th {\n",
       "        text-align: right;\n",
       "    }\n",
       "</style>\n",
       "<table border=\"1\" class=\"dataframe\">\n",
       "  <thead>\n",
       "    <tr style=\"text-align: right;\">\n",
       "      <th></th>\n",
       "      <th>ad_id</th>\n",
       "      <th>create_update_time</th>\n",
       "      <th>op_type</th>\n",
       "      <th>op_set</th>\n",
       "      <th>op_value</th>\n",
       "      <th>index11</th>\n",
       "      <th>status</th>\n",
       "      <th>ad_bid</th>\n",
       "      <th>people</th>\n",
       "      <th>deliver_time</th>\n",
       "    </tr>\n",
       "  </thead>\n",
       "  <tbody>\n",
       "    <tr>\n",
       "      <th>0</th>\n",
       "      <td>593323</td>\n",
       "      <td>0</td>\n",
       "      <td>2</td>\n",
       "      <td>4</td>\n",
       "      <td>281474976710655,281474976710655,28147497671065...</td>\n",
       "      <td>593323-0-2</td>\n",
       "      <td>NaN</td>\n",
       "      <td>90</td>\n",
       "      <td>all</td>\n",
       "      <td>281474976710655,281474976710655,28147497671065...</td>\n",
       "    </tr>\n",
       "    <tr>\n",
       "      <th>1</th>\n",
       "      <td>593323</td>\n",
       "      <td>20190217000000</td>\n",
       "      <td>1</td>\n",
       "      <td>1</td>\n",
       "      <td>0</td>\n",
       "      <td>593323-20190217000000-1</td>\n",
       "      <td>0</td>\n",
       "      <td>NaN</td>\n",
       "      <td>NaN</td>\n",
       "      <td>NaN</td>\n",
       "    </tr>\n",
       "    <tr>\n",
       "      <th>2</th>\n",
       "      <td>593323</td>\n",
       "      <td>20190218233855</td>\n",
       "      <td>1</td>\n",
       "      <td>2</td>\n",
       "      <td>90</td>\n",
       "      <td>593323-20190218233855-1</td>\n",
       "      <td>NaN</td>\n",
       "      <td>90</td>\n",
       "      <td>NaN</td>\n",
       "      <td>NaN</td>\n",
       "    </tr>\n",
       "    <tr>\n",
       "      <th>3</th>\n",
       "      <td>593323</td>\n",
       "      <td>20190218000000</td>\n",
       "      <td>1</td>\n",
       "      <td>1</td>\n",
       "      <td>1</td>\n",
       "      <td>593323-20190218000000-1</td>\n",
       "      <td>1</td>\n",
       "      <td>NaN</td>\n",
       "      <td>NaN</td>\n",
       "      <td>NaN</td>\n",
       "    </tr>\n",
       "    <tr>\n",
       "      <th>4</th>\n",
       "      <td>593323</td>\n",
       "      <td>20190301000000</td>\n",
       "      <td>1</td>\n",
       "      <td>1</td>\n",
       "      <td>1</td>\n",
       "      <td>593323-20190301000000-1</td>\n",
       "      <td>1</td>\n",
       "      <td>NaN</td>\n",
       "      <td>NaN</td>\n",
       "      <td>NaN</td>\n",
       "    </tr>\n",
       "  </tbody>\n",
       "</table>\n",
       "</div>"
      ],
      "text/plain": [
       "    ad_id  create_update_time  op_type  op_set  \\\n",
       "0  593323                   0        2       4   \n",
       "1  593323      20190217000000        1       1   \n",
       "2  593323      20190218233855        1       2   \n",
       "3  593323      20190218000000        1       1   \n",
       "4  593323      20190301000000        1       1   \n",
       "\n",
       "                                            op_value                  index11  \\\n",
       "0  281474976710655,281474976710655,28147497671065...               593323-0-2   \n",
       "1                                                  0  593323-20190217000000-1   \n",
       "2                                                 90  593323-20190218233855-1   \n",
       "3                                                  1  593323-20190218000000-1   \n",
       "4                                                  1  593323-20190301000000-1   \n",
       "\n",
       "  status ad_bid people                                       deliver_time  \n",
       "0    NaN     90    all  281474976710655,281474976710655,28147497671065...  \n",
       "1      0    NaN    NaN                                                NaN  \n",
       "2    NaN     90    NaN                                                NaN  \n",
       "3      1    NaN    NaN                                                NaN  \n",
       "4      1    NaN    NaN                                                NaN  "
      ]
     },
     "execution_count": 77,
     "metadata": {},
     "output_type": "execute_result"
    }
   ],
   "source": [
    "op_df.head()"
   ]
  },
  {
   "cell_type": "code",
   "execution_count": 78,
   "metadata": {},
   "outputs": [],
   "source": [
    "op_df.drop(['op_set','op_value','index11'],axis=1,inplace=True)\n",
    "op_df.sort_values(['ad_id','create_update_time'],inplace=True)"
   ]
  },
  {
   "cell_type": "code",
   "execution_count": 81,
   "metadata": {},
   "outputs": [
    {
     "data": {
      "text/plain": [
       "(680724, 7)"
      ]
     },
     "execution_count": 81,
     "metadata": {},
     "output_type": "execute_result"
    }
   ],
   "source": [
    "op_df.shape"
   ]
  },
  {
   "cell_type": "code",
   "execution_count": 83,
   "metadata": {},
   "outputs": [],
   "source": [
    "#分组填充\n",
    "op_data_fillna = pd.DataFrame()\n",
    "ad_id_unique = op_df.ad_id.unique()\n",
    "for ind in ad_id_unique:\n",
    "    t = op_df.ad_id == ind\n",
    "    a = op_df[t].fillna(axis=0,method='ffill')\n",
    "    op_data_fillna = op_data_fillna.append(a)\n"
   ]
  },
  {
   "cell_type": "code",
   "execution_count": 85,
   "metadata": {},
   "outputs": [
    {
     "data": {
      "text/html": [
       "<div>\n",
       "<style scoped>\n",
       "    .dataframe tbody tr th:only-of-type {\n",
       "        vertical-align: middle;\n",
       "    }\n",
       "\n",
       "    .dataframe tbody tr th {\n",
       "        vertical-align: top;\n",
       "    }\n",
       "\n",
       "    .dataframe thead th {\n",
       "        text-align: right;\n",
       "    }\n",
       "</style>\n",
       "<table border=\"1\" class=\"dataframe\">\n",
       "  <thead>\n",
       "    <tr style=\"text-align: right;\">\n",
       "      <th></th>\n",
       "      <th>ad_id</th>\n",
       "      <th>create_update_time</th>\n",
       "      <th>op_type</th>\n",
       "      <th>status</th>\n",
       "      <th>ad_bid</th>\n",
       "      <th>people</th>\n",
       "      <th>deliver_time</th>\n",
       "    </tr>\n",
       "  </thead>\n",
       "  <tbody>\n",
       "    <tr>\n",
       "      <th>651230</th>\n",
       "      <td>31</td>\n",
       "      <td>0</td>\n",
       "      <td>2</td>\n",
       "      <td>NaN</td>\n",
       "      <td>100</td>\n",
       "      <td>area:11442</td>\n",
       "      <td>281474976694272,281474976694272,28147497669427...</td>\n",
       "    </tr>\n",
       "    <tr>\n",
       "      <th>651231</th>\n",
       "      <td>31</td>\n",
       "      <td>20190313195207</td>\n",
       "      <td>1</td>\n",
       "      <td>0</td>\n",
       "      <td>100</td>\n",
       "      <td>area:11442</td>\n",
       "      <td>281474976694272,281474976694272,28147497669427...</td>\n",
       "    </tr>\n",
       "    <tr>\n",
       "      <th>227403</th>\n",
       "      <td>32</td>\n",
       "      <td>0</td>\n",
       "      <td>2</td>\n",
       "      <td>NaN</td>\n",
       "      <td>83</td>\n",
       "      <td>area:7572</td>\n",
       "      <td>70368475742208,70368475742208,70368475742208,7...</td>\n",
       "    </tr>\n",
       "    <tr>\n",
       "      <th>227404</th>\n",
       "      <td>32</td>\n",
       "      <td>20190221053131</td>\n",
       "      <td>1</td>\n",
       "      <td>NaN</td>\n",
       "      <td>91</td>\n",
       "      <td>area:7572</td>\n",
       "      <td>70368475742208,70368475742208,70368475742208,7...</td>\n",
       "    </tr>\n",
       "    <tr>\n",
       "      <th>227405</th>\n",
       "      <td>32</td>\n",
       "      <td>20190221223403</td>\n",
       "      <td>1</td>\n",
       "      <td>0</td>\n",
       "      <td>91</td>\n",
       "      <td>area:7572</td>\n",
       "      <td>70368475742208,70368475742208,70368475742208,7...</td>\n",
       "    </tr>\n",
       "  </tbody>\n",
       "</table>\n",
       "</div>"
      ],
      "text/plain": [
       "        ad_id  create_update_time  op_type status ad_bid      people  \\\n",
       "651230     31                   0        2    NaN    100  area:11442   \n",
       "651231     31      20190313195207        1      0    100  area:11442   \n",
       "227403     32                   0        2    NaN     83   area:7572   \n",
       "227404     32      20190221053131        1    NaN     91   area:7572   \n",
       "227405     32      20190221223403        1      0     91   area:7572   \n",
       "\n",
       "                                             deliver_time  \n",
       "651230  281474976694272,281474976694272,28147497669427...  \n",
       "651231  281474976694272,281474976694272,28147497669427...  \n",
       "227403  70368475742208,70368475742208,70368475742208,7...  \n",
       "227404  70368475742208,70368475742208,70368475742208,7...  \n",
       "227405  70368475742208,70368475742208,70368475742208,7...  "
      ]
     },
     "execution_count": 85,
     "metadata": {},
     "output_type": "execute_result"
    }
   ],
   "source": [
    "op_data_fillna.head()"
   ]
  },
  {
   "cell_type": "code",
   "execution_count": 106,
   "metadata": {},
   "outputs": [],
   "source": [
    "op_df=op_data_fillna\n",
    "#op_df.status.value_counts()\n",
    "#   ???????\n",
    "#删除广告状态无效行\n",
    "op_df=op_df[op_df.status!='0']\n"
   ]
  },
  {
   "cell_type": "code",
   "execution_count": 107,
   "metadata": {},
   "outputs": [
    {
     "data": {
      "text/plain": [
       "(402003, 7)"
      ]
     },
     "execution_count": 107,
     "metadata": {},
     "output_type": "execute_result"
    }
   ],
   "source": [
    "op_df.shape"
   ]
  },
  {
   "cell_type": "code",
   "execution_count": 108,
   "metadata": {},
   "outputs": [
    {
     "name": "stderr",
     "output_type": "stream",
     "text": [
      "/usr/local/lib/python3.5/dist-packages/ipykernel_launcher.py:2: SettingWithCopyWarning: \n",
      "A value is trying to be set on a copy of a slice from a DataFrame\n",
      "\n",
      "See the caveats in the documentation: http://pandas.pydata.org/pandas-docs/stable/indexing.html#indexing-view-versus-copy\n",
      "  \n"
     ]
    },
    {
     "data": {
      "text/plain": [
       "(402003, 7)"
      ]
     },
     "execution_count": 108,
     "metadata": {},
     "output_type": "execute_result"
    }
   ],
   "source": [
    "#清理频繁修改记录，只保留一天的最后一条修改记录\n",
    "op_df.drop_duplicates(subset=['ad_id','create_update_time','op_type'],keep='last',inplace=True)\n",
    "op_df.shape"
   ]
  },
  {
   "cell_type": "markdown",
   "metadata": {},
   "source": [
    "## 6.整合操作数据和静态数据\n",
    "###  将静态数据中的修改或创建时间空的数据默认设置为很久之前，例如：20150407094355；并将操作数据时间字段中为0数据填充为静态数据时间字段"
   ]
  },
  {
   "cell_type": "code",
   "execution_count": 113,
   "metadata": {},
   "outputs": [],
   "source": [
    "op_sta_df=pd.merge(op_df, sta_df, how='left', left_on='ad_id', right_on='ad_id')"
   ]
  },
  {
   "cell_type": "code",
   "execution_count": 156,
   "metadata": {},
   "outputs": [
    {
     "name": "stdout",
     "output_type": "stream",
     "text": [
      "20150407094355\n"
     ]
    },
    {
     "data": {
      "text/plain": [
       "'20150407'"
      ]
     },
     "execution_count": 156,
     "metadata": {},
     "output_type": "execute_result"
    }
   ],
   "source": [
    "#1552432970\n",
    "time.strftime(\"%Y%m%d%H%M%S\",time.localtime(int(1428399835)))"
   ]
  },
  {
   "cell_type": "code",
   "execution_count": 153,
   "metadata": {},
   "outputs": [
    {
     "data": {
      "text/plain": [
       "0"
      ]
     },
     "execution_count": 153,
     "metadata": {},
     "output_type": "execute_result"
    }
   ],
   "source": [
    "op_sta_df['create_time']=op_sta_df['create_time'].fillna('1428399835')\n",
    "op_sta_df.create_time.isna().sum()"
   ]
  },
  {
   "cell_type": "code",
   "execution_count": 162,
   "metadata": {},
   "outputs": [],
   "source": [
    "op_sta_df['create_time']=op_sta_df['create_time'].apply(lambda x:time.strftime(\"%Y%m%d%H%M%S\",time.localtime(int(x))))"
   ]
  },
  {
   "cell_type": "code",
   "execution_count": 164,
   "metadata": {},
   "outputs": [],
   "source": [
    "op_sta_df.loc[op_sta_df.create_update_time==0,'create_update_time']=op_sta_df[op_sta_df.create_update_time==0]['create_time'] "
   ]
  },
  {
   "cell_type": "code",
   "execution_count": 173,
   "metadata": {},
   "outputs": [
    {
     "data": {
      "text/html": [
       "<div>\n",
       "<style scoped>\n",
       "    .dataframe tbody tr th:only-of-type {\n",
       "        vertical-align: middle;\n",
       "    }\n",
       "\n",
       "    .dataframe tbody tr th {\n",
       "        vertical-align: top;\n",
       "    }\n",
       "\n",
       "    .dataframe thead th {\n",
       "        text-align: right;\n",
       "    }\n",
       "</style>\n",
       "<table border=\"1\" class=\"dataframe\">\n",
       "  <thead>\n",
       "    <tr style=\"text-align: right;\">\n",
       "      <th></th>\n",
       "      <th>ad_id</th>\n",
       "      <th>create_update_time</th>\n",
       "      <th>op_type</th>\n",
       "      <th>ad_bid</th>\n",
       "      <th>people</th>\n",
       "      <th>deliver_time</th>\n",
       "      <th>ad_acc_id</th>\n",
       "      <th>good_id</th>\n",
       "      <th>good_class</th>\n",
       "      <th>ad_trade_id</th>\n",
       "      <th>ad_size</th>\n",
       "    </tr>\n",
       "  </thead>\n",
       "  <tbody>\n",
       "    <tr>\n",
       "      <th>0</th>\n",
       "      <td>31</td>\n",
       "      <td>20190312232250</td>\n",
       "      <td>2</td>\n",
       "      <td>100</td>\n",
       "      <td>area:11442</td>\n",
       "      <td>281474976694272,281474976694272,28147497669427...</td>\n",
       "      <td>12577.0</td>\n",
       "      <td>18683</td>\n",
       "      <td>13</td>\n",
       "      <td>224</td>\n",
       "      <td>40</td>\n",
       "    </tr>\n",
       "    <tr>\n",
       "      <th>1</th>\n",
       "      <td>32</td>\n",
       "      <td>20181130074017</td>\n",
       "      <td>2</td>\n",
       "      <td>83</td>\n",
       "      <td>area:7572</td>\n",
       "      <td>70368475742208,70368475742208,70368475742208,7...</td>\n",
       "      <td>18752.0</td>\n",
       "      <td>32534</td>\n",
       "      <td>13</td>\n",
       "      <td>136</td>\n",
       "      <td>40</td>\n",
       "    </tr>\n",
       "    <tr>\n",
       "      <th>2</th>\n",
       "      <td>32</td>\n",
       "      <td>20190221053131</td>\n",
       "      <td>1</td>\n",
       "      <td>91</td>\n",
       "      <td>area:7572</td>\n",
       "      <td>70368475742208,70368475742208,70368475742208,7...</td>\n",
       "      <td>18752.0</td>\n",
       "      <td>32534</td>\n",
       "      <td>13</td>\n",
       "      <td>136</td>\n",
       "      <td>40</td>\n",
       "    </tr>\n",
       "    <tr>\n",
       "      <th>3</th>\n",
       "      <td>32</td>\n",
       "      <td>20190222053139</td>\n",
       "      <td>1</td>\n",
       "      <td>91</td>\n",
       "      <td>area:7572</td>\n",
       "      <td>70368475742208,70368475742208,70368475742208,7...</td>\n",
       "      <td>18752.0</td>\n",
       "      <td>32534</td>\n",
       "      <td>13</td>\n",
       "      <td>136</td>\n",
       "      <td>40</td>\n",
       "    </tr>\n",
       "    <tr>\n",
       "      <th>4</th>\n",
       "      <td>32</td>\n",
       "      <td>20190223053142</td>\n",
       "      <td>1</td>\n",
       "      <td>91</td>\n",
       "      <td>area:7572</td>\n",
       "      <td>70368475742208,70368475742208,70368475742208,7...</td>\n",
       "      <td>18752.0</td>\n",
       "      <td>32534</td>\n",
       "      <td>13</td>\n",
       "      <td>136</td>\n",
       "      <td>40</td>\n",
       "    </tr>\n",
       "  </tbody>\n",
       "</table>\n",
       "</div>"
      ],
      "text/plain": [
       "   ad_id create_update_time  op_type ad_bid      people  \\\n",
       "0     31     20190312232250        2    100  area:11442   \n",
       "1     32     20181130074017        2     83   area:7572   \n",
       "2     32     20190221053131        1     91   area:7572   \n",
       "3     32     20190222053139        1     91   area:7572   \n",
       "4     32     20190223053142        1     91   area:7572   \n",
       "\n",
       "                                        deliver_time  ad_acc_id good_id  \\\n",
       "0  281474976694272,281474976694272,28147497669427...    12577.0   18683   \n",
       "1  70368475742208,70368475742208,70368475742208,7...    18752.0   32534   \n",
       "2  70368475742208,70368475742208,70368475742208,7...    18752.0   32534   \n",
       "3  70368475742208,70368475742208,70368475742208,7...    18752.0   32534   \n",
       "4  70368475742208,70368475742208,70368475742208,7...    18752.0   32534   \n",
       "\n",
       "  good_class ad_trade_id ad_size  \n",
       "0         13         224      40  \n",
       "1         13         136      40  \n",
       "2         13         136      40  \n",
       "3         13         136      40  \n",
       "4         13         136      40  "
      ]
     },
     "execution_count": 173,
     "metadata": {},
     "output_type": "execute_result"
    }
   ],
   "source": [
    "op_sta_df.head()"
   ]
  },
  {
   "cell_type": "code",
   "execution_count": 169,
   "metadata": {},
   "outputs": [],
   "source": [
    "op_sta_df.dropna(subset=['ad_size'],inplace=True)"
   ]
  },
  {
   "cell_type": "code",
   "execution_count": 172,
   "metadata": {},
   "outputs": [],
   "source": [
    "op_sta_df.drop(['status','create_time'],axis=1,inplace=True)"
   ]
  },
  {
   "cell_type": "markdown",
   "metadata": {},
   "source": [
    "## 7.筛选曝光数据ad_id在静态和操作整合数据出现的数据，并统计这些ad_id当日曝光"
   ]
  },
  {
   "cell_type": "code",
   "execution_count": 190,
   "metadata": {},
   "outputs": [
    {
     "data": {
      "text/plain": [
       "(5836700, 10)"
      ]
     },
     "execution_count": 190,
     "metadata": {},
     "output_type": "execute_result"
    }
   ],
   "source": [
    "op_sta_idlist=op_sta_df.ad_id.unique()\n",
    "exp_all_df=exp_df[exp_df['ad_id'].isin(op_sta_idlist)]\n",
    "exp_all_df.shape"
   ]
  },
  {
   "cell_type": "code",
   "execution_count": 193,
   "metadata": {},
   "outputs": [
    {
     "data": {
      "text/html": [
       "<div>\n",
       "<style scoped>\n",
       "    .dataframe tbody tr th:only-of-type {\n",
       "        vertical-align: middle;\n",
       "    }\n",
       "\n",
       "    .dataframe tbody tr th {\n",
       "        vertical-align: top;\n",
       "    }\n",
       "\n",
       "    .dataframe thead th {\n",
       "        text-align: right;\n",
       "    }\n",
       "</style>\n",
       "<table border=\"1\" class=\"dataframe\">\n",
       "  <thead>\n",
       "    <tr style=\"text-align: right;\">\n",
       "      <th></th>\n",
       "      <th>ad_id</th>\n",
       "      <th>request_time</th>\n",
       "      <th>label</th>\n",
       "    </tr>\n",
       "  </thead>\n",
       "  <tbody>\n",
       "    <tr>\n",
       "      <th>0</th>\n",
       "      <td>31</td>\n",
       "      <td>20190313</td>\n",
       "      <td>14</td>\n",
       "    </tr>\n",
       "    <tr>\n",
       "      <th>1</th>\n",
       "      <td>32</td>\n",
       "      <td>20190219</td>\n",
       "      <td>1</td>\n",
       "    </tr>\n",
       "    <tr>\n",
       "      <th>2</th>\n",
       "      <td>32</td>\n",
       "      <td>20190220</td>\n",
       "      <td>11</td>\n",
       "    </tr>\n",
       "    <tr>\n",
       "      <th>3</th>\n",
       "      <td>32</td>\n",
       "      <td>20190221</td>\n",
       "      <td>6</td>\n",
       "    </tr>\n",
       "    <tr>\n",
       "      <th>4</th>\n",
       "      <td>32</td>\n",
       "      <td>20190222</td>\n",
       "      <td>5</td>\n",
       "    </tr>\n",
       "  </tbody>\n",
       "</table>\n",
       "</div>"
      ],
      "text/plain": [
       "   ad_id request_time  label\n",
       "0     31     20190313     14\n",
       "1     32     20190219      1\n",
       "2     32     20190220     11\n",
       "3     32     20190221      6\n",
       "4     32     20190222      5"
      ]
     },
     "execution_count": 193,
     "metadata": {},
     "output_type": "execute_result"
    }
   ],
   "source": [
    "temp=exp_all_df.groupby(['ad_id','request_time','ad_bid'])['request_id'].count().reset_index()\n",
    "exp_all_label=pd.DataFrame(temp.groupby(['ad_id','request_time'])['request_id'].sum().reset_index(),columns=['ad_id','request_time','request_id'])\n",
    "exp_all_label.rename(columns=dict(zip(['ad_id','request_time','request_id'], ['ad_id','request_time','label'])), inplace=True)\n",
    "exp_all_label.head()"
   ]
  },
  {
   "cell_type": "code",
   "execution_count": 276,
   "metadata": {},
   "outputs": [],
   "source": [
    "exp_all_label.to_csv(path2+'exp_all_label_nowday.csv')"
   ]
  },
  {
   "cell_type": "markdown",
   "metadata": {},
   "source": [
    "## 8.生成训练集用得到的label,例如20190312 对应的label应当为0313号实际曝光值"
   ]
  },
  {
   "cell_type": "code",
   "execution_count": 278,
   "metadata": {},
   "outputs": [],
   "source": [
    "def dayminis1(now):\n",
    "    datestart=datetime.datetime.strptime(str(now),'%Y%m%d')\n",
    "    datestart-=datetime.timedelta(days=+1)\n",
    "    return datestart.strftime('%Y%m%d')\n",
    "exp_all_label['request_time']=exp_all_label['request_time'].apply(lambda x:dayminis1(x))"
   ]
  },
  {
   "cell_type": "code",
   "execution_count": 279,
   "metadata": {},
   "outputs": [
    {
     "data": {
      "text/html": [
       "<div>\n",
       "<style scoped>\n",
       "    .dataframe tbody tr th:only-of-type {\n",
       "        vertical-align: middle;\n",
       "    }\n",
       "\n",
       "    .dataframe tbody tr th {\n",
       "        vertical-align: top;\n",
       "    }\n",
       "\n",
       "    .dataframe thead th {\n",
       "        text-align: right;\n",
       "    }\n",
       "</style>\n",
       "<table border=\"1\" class=\"dataframe\">\n",
       "  <thead>\n",
       "    <tr style=\"text-align: right;\">\n",
       "      <th></th>\n",
       "      <th>ad_id</th>\n",
       "      <th>request_time</th>\n",
       "      <th>label</th>\n",
       "    </tr>\n",
       "  </thead>\n",
       "  <tbody>\n",
       "    <tr>\n",
       "      <th>0</th>\n",
       "      <td>31</td>\n",
       "      <td>20190312</td>\n",
       "      <td>14</td>\n",
       "    </tr>\n",
       "    <tr>\n",
       "      <th>1</th>\n",
       "      <td>32</td>\n",
       "      <td>20190218</td>\n",
       "      <td>1</td>\n",
       "    </tr>\n",
       "    <tr>\n",
       "      <th>2</th>\n",
       "      <td>32</td>\n",
       "      <td>20190219</td>\n",
       "      <td>11</td>\n",
       "    </tr>\n",
       "    <tr>\n",
       "      <th>3</th>\n",
       "      <td>32</td>\n",
       "      <td>20190220</td>\n",
       "      <td>6</td>\n",
       "    </tr>\n",
       "    <tr>\n",
       "      <th>4</th>\n",
       "      <td>32</td>\n",
       "      <td>20190221</td>\n",
       "      <td>5</td>\n",
       "    </tr>\n",
       "  </tbody>\n",
       "</table>\n",
       "</div>"
      ],
      "text/plain": [
       "   ad_id request_time  label\n",
       "0     31     20190312     14\n",
       "1     32     20190218      1\n",
       "2     32     20190219     11\n",
       "3     32     20190220      6\n",
       "4     32     20190221      5"
      ]
     },
     "execution_count": 279,
     "metadata": {},
     "output_type": "execute_result"
    }
   ],
   "source": [
    "exp_all_label.head()"
   ]
  },
  {
   "cell_type": "code",
   "execution_count": 280,
   "metadata": {},
   "outputs": [],
   "source": [
    "exp_all_label.to_csv(path2+'exp_all_label_minisday.csv')"
   ]
  },
  {
   "cell_type": "markdown",
   "metadata": {},
   "source": [
    "## 9.对操作和静态整合数据进行填充，即填充广告每天得状态（size,people...etc）\n",
    "#### 例如 已有操作时间20190215  size:89   people:all .....\n",
    "####                20190227  size:89   people:area123,12312 .....\n",
    "####               则0215号到0227广告的状态就是持续0215的状态\n",
    "####               问题1：20190227已经修改了状态，广告状态发生变化,则0226训练数据是否要进行删除（之后考虑）？？？？？？？？？？\n",
    "### create_assist_date工具函数"
   ]
  },
  {
   "cell_type": "code",
   "execution_count": 195,
   "metadata": {},
   "outputs": [
    {
     "name": "stdout",
     "output_type": "stream",
     "text": [
      "20190216\n"
     ]
    },
    {
     "data": {
      "text/plain": [
       "'20190319'"
      ]
     },
     "execution_count": 195,
     "metadata": {},
     "output_type": "execute_result"
    }
   ],
   "source": [
    "kk=list(set(exp_all_label.request_time))\n",
    "kk.sort()\n",
    "print(kk[0])\n",
    "kk[-1]"
   ]
  },
  {
   "cell_type": "code",
   "execution_count": 237,
   "metadata": {},
   "outputs": [
    {
     "data": {
      "text/plain": [
       "['20190215',\n",
       " '20190216',\n",
       " '20190217',\n",
       " '20190218',\n",
       " '20190219',\n",
       " '20190220',\n",
       " '20190221',\n",
       " '20190222',\n",
       " '20190223',\n",
       " '20190224',\n",
       " '20190225',\n",
       " '20190226',\n",
       " '20190227',\n",
       " '20190228',\n",
       " '20190301',\n",
       " '20190302',\n",
       " '20190303',\n",
       " '20190304',\n",
       " '20190305',\n",
       " '20190306',\n",
       " '20190307',\n",
       " '20190308',\n",
       " '20190309',\n",
       " '20190310',\n",
       " '20190311',\n",
       " '20190312',\n",
       " '20190313',\n",
       " '20190314',\n",
       " '20190315',\n",
       " '20190316',\n",
       " '20190317',\n",
       " '20190318']"
      ]
     },
     "execution_count": 237,
     "metadata": {},
     "output_type": "execute_result"
    }
   ],
   "source": [
    "#生成某一段时间间隔的日期列表函数\n",
    "import datetime\n",
    "def create_assist_date(datestart = None,dateend = None):\n",
    "\t# 创建日期辅助表\n",
    "\n",
    "\tif datestart is None:\n",
    "\t\tdatestart = '2016-01-01'\n",
    "\tif dateend is None:\n",
    "\t\tdateend = datetime.datetime.now().strftime('%Y%m%d')\n",
    "\n",
    "\t# 转为日期格式\n",
    "\tdatestart=datetime.datetime.strptime(str(datestart),'%Y%m%d')\n",
    "\tdateend=datetime.datetime.strptime(str(dateend),'%Y%m%d')\n",
    "\tdate_list = []\n",
    "\tdate_list.append(datestart.strftime('%Y%m%d'))\n",
    "\twhile datestart<dateend:\n",
    "\t\t# 日期叠加一天\n",
    "\t    datestart+=datetime.timedelta(days=+1)\n",
    "\t    # 日期转字符串存入列表\n",
    "\t    date_list.append(datestart.strftime('%Y%m%d'))\n",
    "\treturn date_list\n",
    "datelist=create_assist_date('20190215','20190318')\n",
    "datelist"
   ]
  },
  {
   "cell_type": "code",
   "execution_count": 201,
   "metadata": {},
   "outputs": [
    {
     "data": {
      "text/html": [
       "<div>\n",
       "<style scoped>\n",
       "    .dataframe tbody tr th:only-of-type {\n",
       "        vertical-align: middle;\n",
       "    }\n",
       "\n",
       "    .dataframe tbody tr th {\n",
       "        vertical-align: top;\n",
       "    }\n",
       "\n",
       "    .dataframe thead th {\n",
       "        text-align: right;\n",
       "    }\n",
       "</style>\n",
       "<table border=\"1\" class=\"dataframe\">\n",
       "  <thead>\n",
       "    <tr style=\"text-align: right;\">\n",
       "      <th></th>\n",
       "      <th>ad_id</th>\n",
       "      <th>request_time</th>\n",
       "    </tr>\n",
       "  </thead>\n",
       "  <tbody>\n",
       "    <tr>\n",
       "      <th>0</th>\n",
       "      <td>31</td>\n",
       "      <td>20190215</td>\n",
       "    </tr>\n",
       "    <tr>\n",
       "      <th>1</th>\n",
       "      <td>31</td>\n",
       "      <td>20190216</td>\n",
       "    </tr>\n",
       "    <tr>\n",
       "      <th>2</th>\n",
       "      <td>31</td>\n",
       "      <td>20190217</td>\n",
       "    </tr>\n",
       "    <tr>\n",
       "      <th>3</th>\n",
       "      <td>31</td>\n",
       "      <td>20190218</td>\n",
       "    </tr>\n",
       "    <tr>\n",
       "      <th>4</th>\n",
       "      <td>31</td>\n",
       "      <td>20190219</td>\n",
       "    </tr>\n",
       "  </tbody>\n",
       "</table>\n",
       "</div>"
      ],
      "text/plain": [
       "  ad_id request_time\n",
       "0    31     20190215\n",
       "1    31     20190216\n",
       "2    31     20190217\n",
       "3    31     20190218\n",
       "4    31     20190219"
      ]
     },
     "execution_count": 201,
     "metadata": {},
     "output_type": "execute_result"
    }
   ],
   "source": [
    "#每个ad_id对应20190215~20190318，生成一个用于参考的举证\n",
    "#笛卡尔积函数\n",
    "def dikaerji(A,B):\n",
    "    lenB = len(B)\n",
    "#     print(lenB)\n",
    "    dika_num = pd.DataFrame(columns=['ad_id','request_time'])\n",
    "    for a in A:\n",
    "        curA = np.array([a]*lenB)\n",
    "        curA.shape = (lenB,1)   \n",
    "\n",
    "        # 必须要先转换成np的aray形式，不然会报“没有shape”的错\n",
    "        curB = np.array(B)\n",
    "        curB.shape = (lenB,1)\n",
    "\n",
    "        join_h = np.hstack((curA,curB))\n",
    "\n",
    "        dika_num = dika_num.append(pd.DataFrame(join_h,columns=['ad_id','request_time']),ignore_index=True)\n",
    "    return dika_num\n",
    "\n",
    "dika_num=dikaerji(list(op_sta_idlist),datelist)\n",
    "dika_num.head()"
   ]
  },
  {
   "cell_type": "code",
   "execution_count": 216,
   "metadata": {},
   "outputs": [
    {
     "name": "stdout",
     "output_type": "stream",
     "text": [
      "20190215232250\n"
     ]
    },
    {
     "data": {
      "text/plain": [
       "20190318232250"
      ]
     },
     "execution_count": 216,
     "metadata": {},
     "output_type": "execute_result"
    }
   ],
   "source": [
    "kk=list(map(int, list(set(op_sta_df.temp_time))))\n",
    "kk.sort()\n",
    "print(kk[0])\n",
    "kk[-1]"
   ]
  },
  {
   "cell_type": "code",
   "execution_count": 255,
   "metadata": {},
   "outputs": [],
   "source": [
    "op_sta_df['temp_time']=op_sta_df['create_update_time']\n",
    "op_sta_df['temp_time']=op_sta_df['temp_time'].astype(str)\n",
    "op_sta_df.loc[op_sta_df['temp_time']<'20190216','temp_time']='20190215232250'\n",
    "op_sta_df.loc[op_sta_df['temp_time']>'20190318','temp_time']='20190318232250'\n",
    "op_sta_df['temp_time']=op_sta_df['temp_time'].apply(lambda x:str(x)[0:8])"
   ]
  },
  {
   "cell_type": "code",
   "execution_count": 217,
   "metadata": {},
   "outputs": [
    {
     "data": {
      "text/plain": [
       "Index(['ad_id', 'create_update_time', 'op_type', 'ad_bid', 'people',\n",
       "       'deliver_time', 'ad_acc_id', 'good_id', 'good_class', 'ad_trade_id',\n",
       "       'ad_size', 'temp_time'],\n",
       "      dtype='object')"
      ]
     },
     "execution_count": 217,
     "metadata": {},
     "output_type": "execute_result"
    }
   ],
   "source": [
    "op_sta_df.columns"
   ]
  },
  {
   "cell_type": "code",
   "execution_count": 242,
   "metadata": {},
   "outputs": [
    {
     "data": {
      "text/plain": [
       "28916"
      ]
     },
     "execution_count": 242,
     "metadata": {},
     "output_type": "execute_result"
    }
   ],
   "source": [
    "#总共(静态数据)唯一要处理的ad_id数目\n",
    "len(op_sta_idlist)"
   ]
  },
  {
   "cell_type": "code",
   "execution_count": 272,
   "metadata": {},
   "outputs": [
    {
     "name": "stdout",
     "output_type": "stream",
     "text": [
      "0\n"
     ]
    },
    {
     "name": "stderr",
     "output_type": "stream",
     "text": [
      "/usr/local/lib/python3.5/dist-packages/ipykernel_launcher.py:22: FutureWarning: Sorting because non-concatenation axis is not aligned. A future version\n",
      "of pandas will change to not sort by default.\n",
      "\n",
      "To accept the future behavior, pass 'sort=False'.\n",
      "\n",
      "To retain the current behavior and silence the warning, pass 'sort=True'.\n",
      "\n",
      "/usr/local/lib/python3.5/dist-packages/ipykernel_launcher.py:36: FutureWarning: Sorting because non-concatenation axis is not aligned. A future version\n",
      "of pandas will change to not sort by default.\n",
      "\n",
      "To accept the future behavior, pass 'sort=False'.\n",
      "\n",
      "To retain the current behavior and silence the warning, pass 'sort=True'.\n",
      "\n"
     ]
    },
    {
     "name": "stdout",
     "output_type": "stream",
     "text": [
      "2000\n",
      "4000\n",
      "6000\n",
      "8000\n",
      "10000\n",
      "12000\n",
      "14000\n",
      "16000\n",
      "18000\n",
      "20000\n",
      "22000\n",
      "24000\n",
      "26000\n",
      "28000\n"
     ]
    }
   ],
   "source": [
    "#运行时间长，大概6个小时\n",
    "op_sta_all_df=pd.DataFrame(columns=['ad_id','request_time','create_update_time','op_type','ad_bid','people','deliver_time', 'ad_acc_id', 'good_id', 'good_class', 'ad_trade_id','ad_size'])\n",
    "for j,adid in enumerate(op_sta_idlist):\n",
    "    if j % 2000==0:\n",
    "        print(j)      \n",
    "    temp=op_sta_df[op_sta_df.ad_id == adid].reset_index()\n",
    "    le=len(temp)\n",
    "    for i in range(le):\n",
    "        if i == (le-1):\n",
    "            temp2=pd.DataFrame(columns=['ad_id','request_time','create_update_time',\n",
    "'ad_bid','people','deliver_time', 'ad_acc_id', 'good_id', 'good_class', 'ad_trade_id','ad_size'])\n",
    "            temp2.create_update_time=create_assist_date(temp.loc[i,'temp_time'],'20190318')\n",
    "            temp2.ad_id=adid\n",
    "            temp2.op_type=temp.loc[i,'op_type']\n",
    "            temp2.ad_bid=temp.loc[i,'ad_bid']\n",
    "            temp2.people=temp.loc[i,'people']\n",
    "            temp2.deliver_time=temp.loc[i,'deliver_time']\n",
    "            temp2.ad_acc_id=temp.loc[i,'ad_acc_id']\n",
    "            temp2.good_id=temp.loc[i,'good_id']\n",
    "            temp2.good_class=temp.loc[i,'good_class']\n",
    "            temp2.ad_trade_id=temp.loc[i,'ad_trade_id']\n",
    "            temp2.ad_size=temp.loc[i,'ad_size']\n",
    "            op_sta_all_df=pd.concat([op_sta_all_df,temp2],axis=0)\n",
    "        else:\n",
    "            temp2=pd.DataFrame(columns=['ad_id','request_time','create_update_time','ad_bid','people','deliver_time', 'ad_acc_id', 'good_id', 'good_class', 'ad_trade_id','ad_size'])\n",
    "            temp2.create_update_time=create_assist_date(temp.loc[i,'temp_time'],temp.loc[i+1,'temp_time'])\n",
    "            temp2.ad_id=adid\n",
    "            temp2.op_type=temp.loc[i,'op_type']\n",
    "            temp2.ad_bid=temp.loc[i,'ad_bid']\n",
    "            temp2.people=temp.loc[i,'people']\n",
    "            temp2.deliver_time=temp.loc[i,'deliver_time']\n",
    "            temp2.ad_acc_id=temp.loc[i,'ad_acc_id']\n",
    "            temp2.good_id=temp.loc[i,'good_id']\n",
    "            temp2.good_class=temp.loc[i,'good_class']\n",
    "            temp2.ad_trade_id=temp.loc[i,'ad_trade_id']\n",
    "            temp2.ad_size=temp.loc[i,'ad_size']\n",
    "            op_sta_all_df=pd.concat([op_sta_all_df,temp2],axis=0)"
   ]
  },
  {
   "cell_type": "code",
   "execution_count": 273,
   "metadata": {},
   "outputs": [
    {
     "data": {
      "text/html": [
       "<div>\n",
       "<style scoped>\n",
       "    .dataframe tbody tr th:only-of-type {\n",
       "        vertical-align: middle;\n",
       "    }\n",
       "\n",
       "    .dataframe tbody tr th {\n",
       "        vertical-align: top;\n",
       "    }\n",
       "\n",
       "    .dataframe thead th {\n",
       "        text-align: right;\n",
       "    }\n",
       "</style>\n",
       "<table border=\"1\" class=\"dataframe\">\n",
       "  <thead>\n",
       "    <tr style=\"text-align: right;\">\n",
       "      <th></th>\n",
       "      <th>ad_acc_id</th>\n",
       "      <th>ad_bid</th>\n",
       "      <th>ad_id</th>\n",
       "      <th>ad_size</th>\n",
       "      <th>ad_trade_id</th>\n",
       "      <th>create_update_time</th>\n",
       "      <th>deliver_time</th>\n",
       "      <th>good_class</th>\n",
       "      <th>good_id</th>\n",
       "      <th>op_type</th>\n",
       "      <th>people</th>\n",
       "      <th>request_time</th>\n",
       "    </tr>\n",
       "  </thead>\n",
       "  <tbody>\n",
       "    <tr>\n",
       "      <th>0</th>\n",
       "      <td>12577.0</td>\n",
       "      <td>100</td>\n",
       "      <td>31</td>\n",
       "      <td>40</td>\n",
       "      <td>224</td>\n",
       "      <td>20190312</td>\n",
       "      <td>281474976694272,281474976694272,28147497669427...</td>\n",
       "      <td>13</td>\n",
       "      <td>18683</td>\n",
       "      <td>NaN</td>\n",
       "      <td>area:11442</td>\n",
       "      <td>NaN</td>\n",
       "    </tr>\n",
       "    <tr>\n",
       "      <th>1</th>\n",
       "      <td>12577.0</td>\n",
       "      <td>100</td>\n",
       "      <td>31</td>\n",
       "      <td>40</td>\n",
       "      <td>224</td>\n",
       "      <td>20190313</td>\n",
       "      <td>281474976694272,281474976694272,28147497669427...</td>\n",
       "      <td>13</td>\n",
       "      <td>18683</td>\n",
       "      <td>NaN</td>\n",
       "      <td>area:11442</td>\n",
       "      <td>NaN</td>\n",
       "    </tr>\n",
       "    <tr>\n",
       "      <th>2</th>\n",
       "      <td>12577.0</td>\n",
       "      <td>100</td>\n",
       "      <td>31</td>\n",
       "      <td>40</td>\n",
       "      <td>224</td>\n",
       "      <td>20190314</td>\n",
       "      <td>281474976694272,281474976694272,28147497669427...</td>\n",
       "      <td>13</td>\n",
       "      <td>18683</td>\n",
       "      <td>NaN</td>\n",
       "      <td>area:11442</td>\n",
       "      <td>NaN</td>\n",
       "    </tr>\n",
       "    <tr>\n",
       "      <th>3</th>\n",
       "      <td>12577.0</td>\n",
       "      <td>100</td>\n",
       "      <td>31</td>\n",
       "      <td>40</td>\n",
       "      <td>224</td>\n",
       "      <td>20190315</td>\n",
       "      <td>281474976694272,281474976694272,28147497669427...</td>\n",
       "      <td>13</td>\n",
       "      <td>18683</td>\n",
       "      <td>NaN</td>\n",
       "      <td>area:11442</td>\n",
       "      <td>NaN</td>\n",
       "    </tr>\n",
       "    <tr>\n",
       "      <th>4</th>\n",
       "      <td>12577.0</td>\n",
       "      <td>100</td>\n",
       "      <td>31</td>\n",
       "      <td>40</td>\n",
       "      <td>224</td>\n",
       "      <td>20190316</td>\n",
       "      <td>281474976694272,281474976694272,28147497669427...</td>\n",
       "      <td>13</td>\n",
       "      <td>18683</td>\n",
       "      <td>NaN</td>\n",
       "      <td>area:11442</td>\n",
       "      <td>NaN</td>\n",
       "    </tr>\n",
       "  </tbody>\n",
       "</table>\n",
       "</div>"
      ],
      "text/plain": [
       "   ad_acc_id ad_bid ad_id ad_size ad_trade_id create_update_time  \\\n",
       "0    12577.0    100    31      40         224           20190312   \n",
       "1    12577.0    100    31      40         224           20190313   \n",
       "2    12577.0    100    31      40         224           20190314   \n",
       "3    12577.0    100    31      40         224           20190315   \n",
       "4    12577.0    100    31      40         224           20190316   \n",
       "\n",
       "                                        deliver_time good_class good_id  \\\n",
       "0  281474976694272,281474976694272,28147497669427...         13   18683   \n",
       "1  281474976694272,281474976694272,28147497669427...         13   18683   \n",
       "2  281474976694272,281474976694272,28147497669427...         13   18683   \n",
       "3  281474976694272,281474976694272,28147497669427...         13   18683   \n",
       "4  281474976694272,281474976694272,28147497669427...         13   18683   \n",
       "\n",
       "  op_type      people request_time  \n",
       "0     NaN  area:11442          NaN  \n",
       "1     NaN  area:11442          NaN  \n",
       "2     NaN  area:11442          NaN  \n",
       "3     NaN  area:11442          NaN  \n",
       "4     NaN  area:11442          NaN  "
      ]
     },
     "execution_count": 273,
     "metadata": {},
     "output_type": "execute_result"
    }
   ],
   "source": [
    "op_sta_all_df.head()"
   ]
  },
  {
   "cell_type": "code",
   "execution_count": 277,
   "metadata": {},
   "outputs": [],
   "source": [
    "op_sta_all_df.to_csv(path2+'op_sta_all_df.csv')"
   ]
  },
  {
   "cell_type": "markdown",
   "metadata": {},
   "source": [
    "## 10。对填充后的数据进行清洗，存在填充异常的情况，暂时不管（生成时间函数问题，例如分别生成0215~0219；0219~0301,0219状态填充了两次）"
   ]
  },
  {
   "cell_type": "code",
   "execution_count": 286,
   "metadata": {},
   "outputs": [],
   "source": [
    "op_sta_all_df.drop(['op_type','request_time'],axis=1,inplace=True)\n",
    "op_sta_all_df.drop_duplicates(['ad_id','create_update_time'],keep='first', inplace=True)\n",
    "op_sta_all_df=op_sta_all_df.reset_index()"
   ]
  },
  {
   "cell_type": "code",
   "execution_count": 324,
   "metadata": {},
   "outputs": [
    {
     "data": {
      "text/html": [
       "<div>\n",
       "<style scoped>\n",
       "    .dataframe tbody tr th:only-of-type {\n",
       "        vertical-align: middle;\n",
       "    }\n",
       "\n",
       "    .dataframe tbody tr th {\n",
       "        vertical-align: top;\n",
       "    }\n",
       "\n",
       "    .dataframe thead th {\n",
       "        text-align: right;\n",
       "    }\n",
       "</style>\n",
       "<table border=\"1\" class=\"dataframe\">\n",
       "  <thead>\n",
       "    <tr style=\"text-align: right;\">\n",
       "      <th></th>\n",
       "      <th>ad_id</th>\n",
       "      <th>request_time</th>\n",
       "      <th>label</th>\n",
       "    </tr>\n",
       "  </thead>\n",
       "  <tbody>\n",
       "    <tr>\n",
       "      <th>0</th>\n",
       "      <td>31</td>\n",
       "      <td>20190312</td>\n",
       "      <td>14</td>\n",
       "    </tr>\n",
       "    <tr>\n",
       "      <th>1</th>\n",
       "      <td>32</td>\n",
       "      <td>20190218</td>\n",
       "      <td>1</td>\n",
       "    </tr>\n",
       "    <tr>\n",
       "      <th>2</th>\n",
       "      <td>32</td>\n",
       "      <td>20190219</td>\n",
       "      <td>11</td>\n",
       "    </tr>\n",
       "    <tr>\n",
       "      <th>3</th>\n",
       "      <td>32</td>\n",
       "      <td>20190220</td>\n",
       "      <td>6</td>\n",
       "    </tr>\n",
       "    <tr>\n",
       "      <th>4</th>\n",
       "      <td>32</td>\n",
       "      <td>20190221</td>\n",
       "      <td>5</td>\n",
       "    </tr>\n",
       "  </tbody>\n",
       "</table>\n",
       "</div>"
      ],
      "text/plain": [
       "   ad_id request_time  label\n",
       "0     31     20190312     14\n",
       "1     32     20190218      1\n",
       "2     32     20190219     11\n",
       "3     32     20190220      6\n",
       "4     32     20190221      5"
      ]
     },
     "execution_count": 324,
     "metadata": {},
     "output_type": "execute_result"
    }
   ],
   "source": [
    "exp_all_label.head()"
   ]
  },
  {
   "cell_type": "code",
   "execution_count": 325,
   "metadata": {},
   "outputs": [
    {
     "data": {
      "text/plain": [
       "20190301    6690\n",
       "20190313    6626\n",
       "20190314    6509\n",
       "20190302    6434\n",
       "20190307    6396\n",
       "20190312    6392\n",
       "20190308    6320\n",
       "20190228    6315\n",
       "20190315    6249\n",
       "20190304    6157\n",
       "20190316    6123\n",
       "20190311    6070\n",
       "20190309    6054\n",
       "20190306    6048\n",
       "20190227    5990\n",
       "20190305    5975\n",
       "20190303    5962\n",
       "20190310    5938\n",
       "20190317    5891\n",
       "20190318    5570\n",
       "20190226    5410\n",
       "20190225    5261\n",
       "20190222    5245\n",
       "20190223    5117\n",
       "20190220    5080\n",
       "20190221    5078\n",
       "20190218    4904\n",
       "20190224    4880\n",
       "20190219    4845\n",
       "20190217    4670\n",
       "20190216    4476\n",
       "20190215    1039\n",
       "Name: request_time, dtype: int64"
      ]
     },
     "execution_count": 325,
     "metadata": {},
     "output_type": "execute_result"
    }
   ],
   "source": [
    "exp_all_label.request_time.value_counts()"
   ]
  },
  {
   "cell_type": "code",
   "execution_count": 327,
   "metadata": {},
   "outputs": [
    {
     "data": {
      "text/plain": [
       "20190318    28916\n",
       "20190317    28133\n",
       "20190316    27948\n",
       "20190315    27622\n",
       "20190314    26990\n",
       "20190313    26174\n",
       "20190312    25388\n",
       "20190311    24720\n",
       "20190310    24254\n",
       "20190309    24021\n",
       "20190308    23622\n",
       "20190307    22993\n",
       "20190306    22253\n",
       "20190305    21402\n",
       "20190304    20734\n",
       "20190303    20340\n",
       "20190302    20107\n",
       "20190301    19707\n",
       "20190228    18885\n",
       "20190227    18331\n",
       "20190226    17558\n",
       "20190225    16844\n",
       "20190224    16411\n",
       "20190223    16151\n",
       "20190222    15717\n",
       "20190221    15093\n",
       "20190220    14552\n",
       "20190219    13930\n",
       "20190218    13485\n",
       "20190217    13078\n",
       "20190216    12756\n",
       "20190215    12379\n",
       "Name: create_update_time, dtype: int64"
      ]
     },
     "execution_count": 327,
     "metadata": {},
     "output_type": "execute_result"
    }
   ],
   "source": [
    "#保证填充后的数据比参考数据少\n",
    "op_sta_all_df.create_update_time.value_counts()"
   ]
  },
  {
   "cell_type": "code",
   "execution_count": 350,
   "metadata": {},
   "outputs": [
    {
     "data": {
      "text/plain": [
       "20190308    28916\n",
       "20190306    28916\n",
       "20190314    28916\n",
       "20190316    28916\n",
       "20190222    28916\n",
       "20190302    28916\n",
       "20190305    28916\n",
       "20190312    28916\n",
       "20190228    28916\n",
       "20190315    28916\n",
       "20190309    28916\n",
       "20190226    28916\n",
       "20190310    28916\n",
       "20190220    28916\n",
       "20190223    28916\n",
       "20190318    28916\n",
       "20190215    28916\n",
       "20190303    28916\n",
       "20190218    28916\n",
       "20190301    28916\n",
       "20190227    28916\n",
       "20190304    28916\n",
       "20190225    28916\n",
       "20190221    28916\n",
       "20190216    28916\n",
       "20190313    28916\n",
       "20190219    28916\n",
       "20190307    28916\n",
       "20190311    28916\n",
       "20190224    28916\n",
       "20190317    28916\n",
       "20190217    28916\n",
       "Name: request_time, dtype: int64"
      ]
     },
     "execution_count": 350,
     "metadata": {},
     "output_type": "execute_result"
    }
   ],
   "source": [
    "dika_num.request_time.value_counts()"
   ]
  },
  {
   "cell_type": "code",
   "execution_count": 328,
   "metadata": {},
   "outputs": [],
   "source": [
    "exp_all_label.rename(columns=dict(zip(['ad_id','request_time','label'], ['ad_id','create_update_time','label'])), inplace=True)"
   ]
  },
  {
   "cell_type": "markdown",
   "metadata": {},
   "source": [
    "## 11.整合静态操作数据和label数据生成训练集\n",
    "###  问题2：那么存在许多数据在某天曝光为0（可以计算某些ad_id在2月份到3月份总计曝光为0数据将ad_id删除）"
   ]
  },
  {
   "cell_type": "code",
   "execution_count": 329,
   "metadata": {},
   "outputs": [],
   "source": [
    "df_train1=pd.merge(op_sta_all_df,exp_all_label,on=['ad_id','create_update_time'],how='left')"
   ]
  },
  {
   "cell_type": "code",
   "execution_count": null,
   "metadata": {},
   "outputs": [],
   "source": [
    "df_train1['label'].fillna(0, inplace=True)"
   ]
  },
  {
   "cell_type": "code",
   "execution_count": 351,
   "metadata": {},
   "outputs": [
    {
     "data": {
      "text/html": [
       "<div>\n",
       "<style scoped>\n",
       "    .dataframe tbody tr th:only-of-type {\n",
       "        vertical-align: middle;\n",
       "    }\n",
       "\n",
       "    .dataframe tbody tr th {\n",
       "        vertical-align: top;\n",
       "    }\n",
       "\n",
       "    .dataframe thead th {\n",
       "        text-align: right;\n",
       "    }\n",
       "</style>\n",
       "<table border=\"1\" class=\"dataframe\">\n",
       "  <thead>\n",
       "    <tr style=\"text-align: right;\">\n",
       "      <th></th>\n",
       "      <th>ad_acc_id</th>\n",
       "      <th>ad_bid</th>\n",
       "      <th>ad_id</th>\n",
       "      <th>ad_size</th>\n",
       "      <th>ad_trade_id</th>\n",
       "      <th>create_update_time</th>\n",
       "      <th>deliver_time</th>\n",
       "      <th>good_class</th>\n",
       "      <th>good_id</th>\n",
       "      <th>people</th>\n",
       "      <th>label</th>\n",
       "    </tr>\n",
       "  </thead>\n",
       "  <tbody>\n",
       "    <tr>\n",
       "      <th>0</th>\n",
       "      <td>12577.0</td>\n",
       "      <td>100</td>\n",
       "      <td>31</td>\n",
       "      <td>40</td>\n",
       "      <td>224</td>\n",
       "      <td>20190312</td>\n",
       "      <td>281474976694272,281474976694272,28147497669427...</td>\n",
       "      <td>13</td>\n",
       "      <td>18683</td>\n",
       "      <td>area:11442</td>\n",
       "      <td>14.0</td>\n",
       "    </tr>\n",
       "    <tr>\n",
       "      <th>1</th>\n",
       "      <td>12577.0</td>\n",
       "      <td>100</td>\n",
       "      <td>31</td>\n",
       "      <td>40</td>\n",
       "      <td>224</td>\n",
       "      <td>20190313</td>\n",
       "      <td>281474976694272,281474976694272,28147497669427...</td>\n",
       "      <td>13</td>\n",
       "      <td>18683</td>\n",
       "      <td>area:11442</td>\n",
       "      <td>0.0</td>\n",
       "    </tr>\n",
       "    <tr>\n",
       "      <th>2</th>\n",
       "      <td>12577.0</td>\n",
       "      <td>100</td>\n",
       "      <td>31</td>\n",
       "      <td>40</td>\n",
       "      <td>224</td>\n",
       "      <td>20190314</td>\n",
       "      <td>281474976694272,281474976694272,28147497669427...</td>\n",
       "      <td>13</td>\n",
       "      <td>18683</td>\n",
       "      <td>area:11442</td>\n",
       "      <td>0.0</td>\n",
       "    </tr>\n",
       "    <tr>\n",
       "      <th>3</th>\n",
       "      <td>12577.0</td>\n",
       "      <td>100</td>\n",
       "      <td>31</td>\n",
       "      <td>40</td>\n",
       "      <td>224</td>\n",
       "      <td>20190315</td>\n",
       "      <td>281474976694272,281474976694272,28147497669427...</td>\n",
       "      <td>13</td>\n",
       "      <td>18683</td>\n",
       "      <td>area:11442</td>\n",
       "      <td>0.0</td>\n",
       "    </tr>\n",
       "    <tr>\n",
       "      <th>4</th>\n",
       "      <td>12577.0</td>\n",
       "      <td>100</td>\n",
       "      <td>31</td>\n",
       "      <td>40</td>\n",
       "      <td>224</td>\n",
       "      <td>20190316</td>\n",
       "      <td>281474976694272,281474976694272,28147497669427...</td>\n",
       "      <td>13</td>\n",
       "      <td>18683</td>\n",
       "      <td>area:11442</td>\n",
       "      <td>0.0</td>\n",
       "    </tr>\n",
       "  </tbody>\n",
       "</table>\n",
       "</div>"
      ],
      "text/plain": [
       "   ad_acc_id ad_bid ad_id ad_size ad_trade_id create_update_time  \\\n",
       "0    12577.0    100    31      40         224           20190312   \n",
       "1    12577.0    100    31      40         224           20190313   \n",
       "2    12577.0    100    31      40         224           20190314   \n",
       "3    12577.0    100    31      40         224           20190315   \n",
       "4    12577.0    100    31      40         224           20190316   \n",
       "\n",
       "                                        deliver_time good_class good_id  \\\n",
       "0  281474976694272,281474976694272,28147497669427...         13   18683   \n",
       "1  281474976694272,281474976694272,28147497669427...         13   18683   \n",
       "2  281474976694272,281474976694272,28147497669427...         13   18683   \n",
       "3  281474976694272,281474976694272,28147497669427...         13   18683   \n",
       "4  281474976694272,281474976694272,28147497669427...         13   18683   \n",
       "\n",
       "       people  label  \n",
       "0  area:11442   14.0  \n",
       "1  area:11442    0.0  \n",
       "2  area:11442    0.0  \n",
       "3  area:11442    0.0  \n",
       "4  area:11442    0.0  "
      ]
     },
     "execution_count": 351,
     "metadata": {},
     "output_type": "execute_result"
    }
   ],
   "source": [
    "df_train1.head()"
   ]
  },
  {
   "cell_type": "code",
   "execution_count": null,
   "metadata": {},
   "outputs": [],
   "source": [
    "temp=df_train1.groupby(['ad_id'])['label'].sum().reset_index()\n",
    "valid_id=temp[temp.label!=0].ad_id.unique()\n",
    "df_train1=df_train1[df_train1['ad_id'].isin(valid_id)]"
   ]
  },
  {
   "cell_type": "code",
   "execution_count": 373,
   "metadata": {},
   "outputs": [
    {
     "data": {
      "text/plain": [
       "0.0       459062\n",
       "1.0        43674\n",
       "2.0        22046\n",
       "3.0        14262\n",
       "4.0        10065\n",
       "5.0         7801\n",
       "6.0         6285\n",
       "7.0         5068\n",
       "8.0         4278\n",
       "9.0         3700\n",
       "10.0        3279\n",
       "11.0        2902\n",
       "12.0        2591\n",
       "13.0        2437\n",
       "14.0        2098\n",
       "15.0        1952\n",
       "16.0        1711\n",
       "17.0        1646\n",
       "18.0        1583\n",
       "19.0        1382\n",
       "20.0        1291\n",
       "21.0        1260\n",
       "22.0        1125\n",
       "23.0        1063\n",
       "24.0         988\n",
       "26.0         960\n",
       "25.0         938\n",
       "27.0         861\n",
       "28.0         797\n",
       "29.0         749\n",
       "           ...  \n",
       "1135.0         1\n",
       "4537.0         1\n",
       "2128.0         1\n",
       "1129.0         1\n",
       "4499.0         1\n",
       "1121.0         1\n",
       "4468.0         1\n",
       "4467.0         1\n",
       "4431.0         1\n",
       "1107.0         1\n",
       "4419.0         1\n",
       "1102.0         1\n",
       "4401.0         1\n",
       "1099.0         1\n",
       "1097.0         1\n",
       "1095.0         1\n",
       "628.0          1\n",
       "1091.0         1\n",
       "4361.0         1\n",
       "740.0          1\n",
       "1990.0         1\n",
       "4347.0         1\n",
       "4333.0         1\n",
       "1083.0         1\n",
       "4329.0         1\n",
       "1082.0         1\n",
       "4303.0         1\n",
       "1073.0         1\n",
       "4287.0         1\n",
       "1568.0         1\n",
       "Name: label, Length: 1606, dtype: int64"
      ]
     },
     "execution_count": 373,
     "metadata": {},
     "output_type": "execute_result"
    }
   ],
   "source": [
    "df_train1.label.value_counts()"
   ]
  },
  {
   "cell_type": "code",
   "execution_count": 374,
   "metadata": {},
   "outputs": [],
   "source": [
    "df_train1.to_csv(path2+'train1_with0.csv')"
   ]
  },
  {
   "cell_type": "code",
   "execution_count": 377,
   "metadata": {},
   "outputs": [
    {
     "data": {
      "text/plain": [
       "(172108, 11)"
      ]
     },
     "execution_count": 377,
     "metadata": {},
     "output_type": "execute_result"
    }
   ],
   "source": [
    "df_train1[df_train1['label']!=0].shape"
   ]
  },
  {
   "cell_type": "code",
   "execution_count": 378,
   "metadata": {},
   "outputs": [],
   "source": [
    "df_train1[df_train1['label']!=0].to_csv(path2+'train1_without0.csv')"
   ]
  },
  {
   "cell_type": "markdown",
   "metadata": {},
   "source": [
    "## 12.删除训练数据中问题数据\n",
    "#### （例如16号训练数据（16号数据预测的应该是17号的，label也是17号的），但是17号该广告已经修改过，不能用于训练数据）"
   ]
  },
  {
   "cell_type": "code",
   "execution_count": 379,
   "metadata": {},
   "outputs": [
    {
     "data": {
      "text/html": [
       "<div>\n",
       "<style scoped>\n",
       "    .dataframe tbody tr th:only-of-type {\n",
       "        vertical-align: middle;\n",
       "    }\n",
       "\n",
       "    .dataframe tbody tr th {\n",
       "        vertical-align: top;\n",
       "    }\n",
       "\n",
       "    .dataframe thead th {\n",
       "        text-align: right;\n",
       "    }\n",
       "</style>\n",
       "<table border=\"1\" class=\"dataframe\">\n",
       "  <thead>\n",
       "    <tr style=\"text-align: right;\">\n",
       "      <th></th>\n",
       "      <th>ad_id</th>\n",
       "      <th>create_update_time</th>\n",
       "      <th>op_type</th>\n",
       "      <th>ad_bid</th>\n",
       "      <th>people</th>\n",
       "      <th>deliver_time</th>\n",
       "      <th>ad_acc_id</th>\n",
       "      <th>good_id</th>\n",
       "      <th>good_class</th>\n",
       "      <th>ad_trade_id</th>\n",
       "      <th>ad_size</th>\n",
       "      <th>temp_time</th>\n",
       "    </tr>\n",
       "  </thead>\n",
       "  <tbody>\n",
       "    <tr>\n",
       "      <th>0</th>\n",
       "      <td>31</td>\n",
       "      <td>20190312232250</td>\n",
       "      <td>2</td>\n",
       "      <td>100</td>\n",
       "      <td>area:11442</td>\n",
       "      <td>281474976694272,281474976694272,28147497669427...</td>\n",
       "      <td>12577.0</td>\n",
       "      <td>18683</td>\n",
       "      <td>13</td>\n",
       "      <td>224</td>\n",
       "      <td>40</td>\n",
       "      <td>20190312</td>\n",
       "    </tr>\n",
       "    <tr>\n",
       "      <th>1</th>\n",
       "      <td>32</td>\n",
       "      <td>20181130074017</td>\n",
       "      <td>2</td>\n",
       "      <td>83</td>\n",
       "      <td>area:7572</td>\n",
       "      <td>70368475742208,70368475742208,70368475742208,7...</td>\n",
       "      <td>18752.0</td>\n",
       "      <td>32534</td>\n",
       "      <td>13</td>\n",
       "      <td>136</td>\n",
       "      <td>40</td>\n",
       "      <td>20190215</td>\n",
       "    </tr>\n",
       "    <tr>\n",
       "      <th>2</th>\n",
       "      <td>32</td>\n",
       "      <td>20190221053131</td>\n",
       "      <td>1</td>\n",
       "      <td>91</td>\n",
       "      <td>area:7572</td>\n",
       "      <td>70368475742208,70368475742208,70368475742208,7...</td>\n",
       "      <td>18752.0</td>\n",
       "      <td>32534</td>\n",
       "      <td>13</td>\n",
       "      <td>136</td>\n",
       "      <td>40</td>\n",
       "      <td>20190221</td>\n",
       "    </tr>\n",
       "    <tr>\n",
       "      <th>3</th>\n",
       "      <td>32</td>\n",
       "      <td>20190222053139</td>\n",
       "      <td>1</td>\n",
       "      <td>91</td>\n",
       "      <td>area:7572</td>\n",
       "      <td>70368475742208,70368475742208,70368475742208,7...</td>\n",
       "      <td>18752.0</td>\n",
       "      <td>32534</td>\n",
       "      <td>13</td>\n",
       "      <td>136</td>\n",
       "      <td>40</td>\n",
       "      <td>20190222</td>\n",
       "    </tr>\n",
       "    <tr>\n",
       "      <th>4</th>\n",
       "      <td>32</td>\n",
       "      <td>20190223053142</td>\n",
       "      <td>1</td>\n",
       "      <td>91</td>\n",
       "      <td>area:7572</td>\n",
       "      <td>70368475742208,70368475742208,70368475742208,7...</td>\n",
       "      <td>18752.0</td>\n",
       "      <td>32534</td>\n",
       "      <td>13</td>\n",
       "      <td>136</td>\n",
       "      <td>40</td>\n",
       "      <td>20190223</td>\n",
       "    </tr>\n",
       "  </tbody>\n",
       "</table>\n",
       "</div>"
      ],
      "text/plain": [
       "   ad_id create_update_time  op_type ad_bid      people  \\\n",
       "0     31     20190312232250        2    100  area:11442   \n",
       "1     32     20181130074017        2     83   area:7572   \n",
       "2     32     20190221053131        1     91   area:7572   \n",
       "3     32     20190222053139        1     91   area:7572   \n",
       "4     32     20190223053142        1     91   area:7572   \n",
       "\n",
       "                                        deliver_time  ad_acc_id good_id  \\\n",
       "0  281474976694272,281474976694272,28147497669427...    12577.0   18683   \n",
       "1  70368475742208,70368475742208,70368475742208,7...    18752.0   32534   \n",
       "2  70368475742208,70368475742208,70368475742208,7...    18752.0   32534   \n",
       "3  70368475742208,70368475742208,70368475742208,7...    18752.0   32534   \n",
       "4  70368475742208,70368475742208,70368475742208,7...    18752.0   32534   \n",
       "\n",
       "  good_class ad_trade_id ad_size temp_time  \n",
       "0         13         224      40  20190312  \n",
       "1         13         136      40  20190215  \n",
       "2         13         136      40  20190221  \n",
       "3         13         136      40  20190222  \n",
       "4         13         136      40  20190223  "
      ]
     },
     "execution_count": 379,
     "metadata": {},
     "output_type": "execute_result"
    }
   ],
   "source": [
    "op_sta_df.head()"
   ]
  },
  {
   "cell_type": "code",
   "execution_count": 391,
   "metadata": {},
   "outputs": [],
   "source": [
    "op_sta_df['temp2_time']=op_sta_df['temp_time'].apply(lambda x:dayminis1(x))"
   ]
  },
  {
   "cell_type": "code",
   "execution_count": 392,
   "metadata": {},
   "outputs": [
    {
     "data": {
      "text/html": [
       "<div>\n",
       "<style scoped>\n",
       "    .dataframe tbody tr th:only-of-type {\n",
       "        vertical-align: middle;\n",
       "    }\n",
       "\n",
       "    .dataframe tbody tr th {\n",
       "        vertical-align: top;\n",
       "    }\n",
       "\n",
       "    .dataframe thead th {\n",
       "        text-align: right;\n",
       "    }\n",
       "</style>\n",
       "<table border=\"1\" class=\"dataframe\">\n",
       "  <thead>\n",
       "    <tr style=\"text-align: right;\">\n",
       "      <th></th>\n",
       "      <th>ad_id</th>\n",
       "      <th>create_update_time</th>\n",
       "      <th>op_type</th>\n",
       "      <th>ad_bid</th>\n",
       "      <th>people</th>\n",
       "      <th>deliver_time</th>\n",
       "      <th>ad_acc_id</th>\n",
       "      <th>good_id</th>\n",
       "      <th>good_class</th>\n",
       "      <th>ad_trade_id</th>\n",
       "      <th>ad_size</th>\n",
       "      <th>temp_time</th>\n",
       "      <th>temp2_time</th>\n",
       "    </tr>\n",
       "  </thead>\n",
       "  <tbody>\n",
       "    <tr>\n",
       "      <th>0</th>\n",
       "      <td>31</td>\n",
       "      <td>20190312232250</td>\n",
       "      <td>2</td>\n",
       "      <td>100</td>\n",
       "      <td>area:11442</td>\n",
       "      <td>281474976694272,281474976694272,28147497669427...</td>\n",
       "      <td>12577.0</td>\n",
       "      <td>18683</td>\n",
       "      <td>13</td>\n",
       "      <td>224</td>\n",
       "      <td>40</td>\n",
       "      <td>20190312</td>\n",
       "      <td>20190311</td>\n",
       "    </tr>\n",
       "    <tr>\n",
       "      <th>1</th>\n",
       "      <td>32</td>\n",
       "      <td>20181130074017</td>\n",
       "      <td>2</td>\n",
       "      <td>83</td>\n",
       "      <td>area:7572</td>\n",
       "      <td>70368475742208,70368475742208,70368475742208,7...</td>\n",
       "      <td>18752.0</td>\n",
       "      <td>32534</td>\n",
       "      <td>13</td>\n",
       "      <td>136</td>\n",
       "      <td>40</td>\n",
       "      <td>20190215</td>\n",
       "      <td>20190214</td>\n",
       "    </tr>\n",
       "    <tr>\n",
       "      <th>2</th>\n",
       "      <td>32</td>\n",
       "      <td>20190221053131</td>\n",
       "      <td>1</td>\n",
       "      <td>91</td>\n",
       "      <td>area:7572</td>\n",
       "      <td>70368475742208,70368475742208,70368475742208,7...</td>\n",
       "      <td>18752.0</td>\n",
       "      <td>32534</td>\n",
       "      <td>13</td>\n",
       "      <td>136</td>\n",
       "      <td>40</td>\n",
       "      <td>20190221</td>\n",
       "      <td>20190220</td>\n",
       "    </tr>\n",
       "    <tr>\n",
       "      <th>3</th>\n",
       "      <td>32</td>\n",
       "      <td>20190222053139</td>\n",
       "      <td>1</td>\n",
       "      <td>91</td>\n",
       "      <td>area:7572</td>\n",
       "      <td>70368475742208,70368475742208,70368475742208,7...</td>\n",
       "      <td>18752.0</td>\n",
       "      <td>32534</td>\n",
       "      <td>13</td>\n",
       "      <td>136</td>\n",
       "      <td>40</td>\n",
       "      <td>20190222</td>\n",
       "      <td>20190221</td>\n",
       "    </tr>\n",
       "    <tr>\n",
       "      <th>4</th>\n",
       "      <td>32</td>\n",
       "      <td>20190223053142</td>\n",
       "      <td>1</td>\n",
       "      <td>91</td>\n",
       "      <td>area:7572</td>\n",
       "      <td>70368475742208,70368475742208,70368475742208,7...</td>\n",
       "      <td>18752.0</td>\n",
       "      <td>32534</td>\n",
       "      <td>13</td>\n",
       "      <td>136</td>\n",
       "      <td>40</td>\n",
       "      <td>20190223</td>\n",
       "      <td>20190222</td>\n",
       "    </tr>\n",
       "  </tbody>\n",
       "</table>\n",
       "</div>"
      ],
      "text/plain": [
       "   ad_id create_update_time  op_type ad_bid      people  \\\n",
       "0     31     20190312232250        2    100  area:11442   \n",
       "1     32     20181130074017        2     83   area:7572   \n",
       "2     32     20190221053131        1     91   area:7572   \n",
       "3     32     20190222053139        1     91   area:7572   \n",
       "4     32     20190223053142        1     91   area:7572   \n",
       "\n",
       "                                        deliver_time  ad_acc_id good_id  \\\n",
       "0  281474976694272,281474976694272,28147497669427...    12577.0   18683   \n",
       "1  70368475742208,70368475742208,70368475742208,7...    18752.0   32534   \n",
       "2  70368475742208,70368475742208,70368475742208,7...    18752.0   32534   \n",
       "3  70368475742208,70368475742208,70368475742208,7...    18752.0   32534   \n",
       "4  70368475742208,70368475742208,70368475742208,7...    18752.0   32534   \n",
       "\n",
       "  good_class ad_trade_id ad_size temp_time temp2_time  \n",
       "0         13         224      40  20190312   20190311  \n",
       "1         13         136      40  20190215   20190214  \n",
       "2         13         136      40  20190221   20190220  \n",
       "3         13         136      40  20190222   20190221  \n",
       "4         13         136      40  20190223   20190222  "
      ]
     },
     "execution_count": 392,
     "metadata": {},
     "output_type": "execute_result"
    }
   ],
   "source": [
    "op_sta_df.head()"
   ]
  },
  {
   "cell_type": "code",
   "execution_count": 393,
   "metadata": {},
   "outputs": [],
   "source": [
    "op_sta_df['index11']=op_sta_df.apply(lambda x: str(x['ad_id'])+'-'+str(x['temp2_time']),axis=1)\n",
    "df_train1['index11']=df_train1.apply(lambda x: str(x['ad_id'])+'-'+str(x['create_update_time']),axis=1)"
   ]
  },
  {
   "cell_type": "code",
   "execution_count": 395,
   "metadata": {},
   "outputs": [],
   "source": [
    "df_train1=df_train1[~df_train1['index11'].isin(op_sta_df.index11.unique())]"
   ]
  },
  {
   "cell_type": "code",
   "execution_count": 402,
   "metadata": {},
   "outputs": [],
   "source": [
    "df_train1.drop(['index11'],axis=1,inplace=True)\n",
    "df_train1=df_train1[['ad_id','create_update_time','ad_size','ad_trade_id','good_class','good_id','ad_acc_id','deliver_time','people','ad_bid','label']]"
   ]
  },
  {
   "cell_type": "code",
   "execution_count": 406,
   "metadata": {},
   "outputs": [
    {
     "data": {
      "text/plain": [
       "(449704, 11)"
      ]
     },
     "execution_count": 406,
     "metadata": {},
     "output_type": "execute_result"
    }
   ],
   "source": [
    "df_train1.to_csv(path2+'train1_with0_delete.csv')\n",
    "df_train1.shape"
   ]
  },
  {
   "cell_type": "code",
   "execution_count": 405,
   "metadata": {},
   "outputs": [
    {
     "data": {
      "text/plain": [
       "(81276, 11)"
      ]
     },
     "execution_count": 405,
     "metadata": {},
     "output_type": "execute_result"
    }
   ],
   "source": [
    "df_train1[df_train1['label']!=0].to_csv(path2+'train1_without0_delete.csv')\n",
    "df_train1[df_train1['label']!=0].shape"
   ]
  },
  {
   "cell_type": "code",
   "execution_count": 407,
   "metadata": {},
   "outputs": [
    {
     "data": {
      "text/html": [
       "<div>\n",
       "<style scoped>\n",
       "    .dataframe tbody tr th:only-of-type {\n",
       "        vertical-align: middle;\n",
       "    }\n",
       "\n",
       "    .dataframe tbody tr th {\n",
       "        vertical-align: top;\n",
       "    }\n",
       "\n",
       "    .dataframe thead th {\n",
       "        text-align: right;\n",
       "    }\n",
       "</style>\n",
       "<table border=\"1\" class=\"dataframe\">\n",
       "  <thead>\n",
       "    <tr style=\"text-align: right;\">\n",
       "      <th></th>\n",
       "      <th>ad_id</th>\n",
       "      <th>create_update_time</th>\n",
       "      <th>ad_size</th>\n",
       "      <th>ad_trade_id</th>\n",
       "      <th>good_class</th>\n",
       "      <th>good_id</th>\n",
       "      <th>ad_acc_id</th>\n",
       "      <th>deliver_time</th>\n",
       "      <th>people</th>\n",
       "      <th>ad_bid</th>\n",
       "      <th>label</th>\n",
       "    </tr>\n",
       "  </thead>\n",
       "  <tbody>\n",
       "    <tr>\n",
       "      <th>0</th>\n",
       "      <td>31</td>\n",
       "      <td>20190312</td>\n",
       "      <td>40</td>\n",
       "      <td>224</td>\n",
       "      <td>13</td>\n",
       "      <td>18683</td>\n",
       "      <td>12577.0</td>\n",
       "      <td>281474976694272,281474976694272,28147497669427...</td>\n",
       "      <td>area:11442</td>\n",
       "      <td>100</td>\n",
       "      <td>14.0</td>\n",
       "    </tr>\n",
       "    <tr>\n",
       "      <th>1</th>\n",
       "      <td>31</td>\n",
       "      <td>20190313</td>\n",
       "      <td>40</td>\n",
       "      <td>224</td>\n",
       "      <td>13</td>\n",
       "      <td>18683</td>\n",
       "      <td>12577.0</td>\n",
       "      <td>281474976694272,281474976694272,28147497669427...</td>\n",
       "      <td>area:11442</td>\n",
       "      <td>100</td>\n",
       "      <td>0.0</td>\n",
       "    </tr>\n",
       "    <tr>\n",
       "      <th>2</th>\n",
       "      <td>31</td>\n",
       "      <td>20190314</td>\n",
       "      <td>40</td>\n",
       "      <td>224</td>\n",
       "      <td>13</td>\n",
       "      <td>18683</td>\n",
       "      <td>12577.0</td>\n",
       "      <td>281474976694272,281474976694272,28147497669427...</td>\n",
       "      <td>area:11442</td>\n",
       "      <td>100</td>\n",
       "      <td>0.0</td>\n",
       "    </tr>\n",
       "    <tr>\n",
       "      <th>3</th>\n",
       "      <td>31</td>\n",
       "      <td>20190315</td>\n",
       "      <td>40</td>\n",
       "      <td>224</td>\n",
       "      <td>13</td>\n",
       "      <td>18683</td>\n",
       "      <td>12577.0</td>\n",
       "      <td>281474976694272,281474976694272,28147497669427...</td>\n",
       "      <td>area:11442</td>\n",
       "      <td>100</td>\n",
       "      <td>0.0</td>\n",
       "    </tr>\n",
       "    <tr>\n",
       "      <th>4</th>\n",
       "      <td>31</td>\n",
       "      <td>20190316</td>\n",
       "      <td>40</td>\n",
       "      <td>224</td>\n",
       "      <td>13</td>\n",
       "      <td>18683</td>\n",
       "      <td>12577.0</td>\n",
       "      <td>281474976694272,281474976694272,28147497669427...</td>\n",
       "      <td>area:11442</td>\n",
       "      <td>100</td>\n",
       "      <td>0.0</td>\n",
       "    </tr>\n",
       "  </tbody>\n",
       "</table>\n",
       "</div>"
      ],
      "text/plain": [
       "  ad_id create_update_time ad_size ad_trade_id good_class good_id  ad_acc_id  \\\n",
       "0    31           20190312      40         224         13   18683    12577.0   \n",
       "1    31           20190313      40         224         13   18683    12577.0   \n",
       "2    31           20190314      40         224         13   18683    12577.0   \n",
       "3    31           20190315      40         224         13   18683    12577.0   \n",
       "4    31           20190316      40         224         13   18683    12577.0   \n",
       "\n",
       "                                        deliver_time      people ad_bid  label  \n",
       "0  281474976694272,281474976694272,28147497669427...  area:11442    100   14.0  \n",
       "1  281474976694272,281474976694272,28147497669427...  area:11442    100    0.0  \n",
       "2  281474976694272,281474976694272,28147497669427...  area:11442    100    0.0  \n",
       "3  281474976694272,281474976694272,28147497669427...  area:11442    100    0.0  \n",
       "4  281474976694272,281474976694272,28147497669427...  area:11442    100    0.0  "
      ]
     },
     "execution_count": 407,
     "metadata": {},
     "output_type": "execute_result"
    }
   ],
   "source": [
    "df_train1.head()"
   ]
  },
  {
   "cell_type": "code",
   "execution_count": null,
   "metadata": {},
   "outputs": [],
   "source": []
  }
 ],
 "metadata": {
  "kernelspec": {
   "display_name": "Python 3",
   "language": "python",
   "name": "python3"
  },
  "language_info": {
   "codemirror_mode": {
    "name": "ipython",
    "version": 3
   },
   "file_extension": ".py",
   "mimetype": "text/x-python",
   "name": "python",
   "nbconvert_exporter": "python",
   "pygments_lexer": "ipython3",
   "version": "3.5.2"
  }
 },
 "nbformat": 4,
 "nbformat_minor": 2
}
